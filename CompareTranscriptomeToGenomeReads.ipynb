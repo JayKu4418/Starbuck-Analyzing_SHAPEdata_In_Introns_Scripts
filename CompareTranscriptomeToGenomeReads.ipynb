{
 "cells": [
  {
   "cell_type": "markdown",
   "metadata": {},
   "source": [
    "# Compare whole genomic reads to transcriptome reads\n",
    "\n",
    "## Purpose\n",
    "\n",
    "In this script we are going to get the ratios of whole genomic reads to transcriptome reads for all the different experimental conditions to see which condition is ideal for getting the most intronic reads"
   ]
  },
  {
   "cell_type": "code",
   "execution_count": 59,
   "metadata": {},
   "outputs": [],
   "source": [
    "# Import packages\n",
    "import pandas as pd\n",
    "import matplotlib.pyplot as plt\n",
    "import seaborn as sns\n",
    "import os\n",
    "import numpy as np"
   ]
  },
  {
   "cell_type": "code",
   "execution_count": 60,
   "metadata": {},
   "outputs": [],
   "source": [
    "# Set variable to find highly expressed genes or transcripts\n",
    "feature=\"Gene\""
   ]
  },
  {
   "cell_type": "code",
   "execution_count": 61,
   "metadata": {},
   "outputs": [],
   "source": [
    "# Set variable to remove non-coding genes\n",
    "removeNC=True\n",
    "removeNC_string=\"\"\n",
    "if removeNC:\n",
    "    removeNC_string=\"Coding\"\n",
    "    geneNamesAndTranscriptIDs = pd.read_csv(\"../data/GeneNameTranscriptID_NCBI_RefSeq_hg38_FromGFFfile.tsv\",header=None,sep=\"\\t\")\n",
    "    noncodinggeneNames= list(geneNamesAndTranscriptIDs[geneNamesAndTranscriptIDs[0].str.contains(\"NR_\")|geneNamesAndTranscriptIDs[0].str.contains(\"XR_\")][1].values)\n",
    "    noncodingtranscriptNames= list(geneNamesAndTranscriptIDs[geneNamesAndTranscriptIDs[0].str.contains(\"NR_\")|geneNamesAndTranscriptIDs[0].str.contains(\"XR_\")][0].values)\n",
    "    noncodingFeatures = noncodinggeneNames+noncodingtranscriptNames"
   ]
  },
  {
   "cell_type": "code",
   "execution_count": 62,
   "metadata": {},
   "outputs": [
    {
     "name": "stdout",
     "output_type": "stream",
     "text": [
      "(153118, 2)\n",
      "              0               1\n",
      "0       DDX11L1     NR_046018.2\n",
      "1        WASH7P     NR_024540.1\n",
      "2   MIR1302-2HG  XR_001737835.1\n",
      "3       FAM138A     NR_026818.1\n",
      "4  LOC100996442  XR_001737582.2\n"
     ]
    }
   ],
   "source": [
    "# Set variable to only look at features that have introns in them\n",
    "featuresWithIntrons=True\n",
    "featuresWithIntrons_string=\"\"\n",
    "if featuresWithIntrons:\n",
    "    featuresWithIntrons_string=\"WithIntronicRegions\"\n",
    "    # Get the transcript and genes that have introns within them\n",
    "    geneNamesAndTranscriptIDs_withIntrons = pd.read_csv(\"../data/GeneNameTranscriptID_NCBI_RefSeq_hg38_FromGFFfile_OnlyOnesWithIntrons.tsv\",header=None,sep=\"\\t\")\n",
    "    print geneNamesAndTranscriptIDs_withIntrons.shape\n",
    "    print geneNamesAndTranscriptIDs_withIntrons.head()"
   ]
  },
  {
   "cell_type": "code",
   "execution_count": 63,
   "metadata": {},
   "outputs": [],
   "source": [
    "if feature==\"Gene\":\n",
    "    fileToRead=\"quant.genes.sf\"\n",
    "else:\n",
    "    fileToRead=\"quant.sf\""
   ]
  },
  {
   "cell_type": "code",
   "execution_count": 64,
   "metadata": {},
   "outputs": [],
   "source": [
    "# Set variable to determine how many expressed features to look at\n",
    "# If set to 0, then get all features\n",
    "numFeatures=100"
   ]
  },
  {
   "cell_type": "code",
   "execution_count": 65,
   "metadata": {},
   "outputs": [
    {
     "name": "stdout",
     "output_type": "stream",
     "text": [
      "Mad-30mm-8hr-minus_S12_transcripts_quant_genenames\n",
      "Mad-20mm-8hr-DMS_S8_transcripts_quant_genenames\n",
      "Mad-10mm-8hr-DMS_S7_transcripts_quant_genenames\n",
      "Mad-20mm-4hr-DMS_S2_transcripts_quant_genenames\n",
      "Mad-10mm-4hr-DMS_S1_transcripts_quant_genenames\n",
      "Mad-30mm-4hr-DMS_S3_transcripts_quant_genenames\n"
     ]
    }
   ],
   "source": [
    "# Get highly expressed features from each file for the transcriptome data\n",
    "top_features_Transcriptome = []\n",
    "for filename in os.listdir(\"../tmp/Lela_MadrasinReadsTest_June2018/\"):\n",
    "    if \"transcripts_quant_genenames\" in filename and \"transcripts_quant_genenames_\" not in filename and ((\"DMS\" in filename and \"Mad-30mm-8hr-DMS\" not in filename) or (\"Mad-30mm-8hr-minus_S12\" in filename)):\n",
    "        print filename\n",
    "        # Read the salmon output file\n",
    "        data_to_read = pd.read_csv(\"../tmp/Lela_MadrasinReadsTest_June2018/\"+filename+\"/\"+fileToRead,header=0,sep=\"\\t\")\n",
    "        # If features with Introns flag is set, only get features that have introns in them\n",
    "        if featuresWithIntrons:\n",
    "            # Only features with introns\n",
    "            data_to_read = data_to_read[(data_to_read[\"Name\"].isin(geneNamesAndTranscriptIDs_withIntrons[0])|data_to_read[\"Name\"].isin(geneNamesAndTranscriptIDs_withIntrons[1]))]\n",
    "        # If removeNC flag is set, only get coding features\n",
    "        if removeNC:\n",
    "            data_to_read = data_to_read[~(data_to_read[\"Name\"].str.contains(\"NR_\")|data_to_read[\"Name\"].str.contains(\"XR_\")|data_to_read[\"Name\"].isin(noncodingFeatures))]\n",
    "        # Sort the data by TPM\n",
    "        data_to_read_sorted = data_to_read.sort_values(by=[\"TPM\"],ascending=False)\n",
    "        # Grab the names of the first 100 features\n",
    "        if numFeatures==0:\n",
    "            top_features_Transcriptome.extend(list(data_to_read_sorted[\"Name\"].values))\n",
    "        else:\n",
    "            top_features_Transcriptome.extend(list(data_to_read_sorted.iloc[range(numFeatures),0].values))"
   ]
  },
  {
   "cell_type": "code",
   "execution_count": 66,
   "metadata": {},
   "outputs": [
    {
     "name": "stdout",
     "output_type": "stream",
     "text": [
      "Mad-10mm-8hr-DMS_S7_transcripts_quant_genenames_AgainstGenomicCoordinates\n",
      "Mad-30mm-4hr-DMS_S3_transcripts_quant_genenames_AgainstGenomicCoordinates\n",
      "Mad-20mm-8hr-DMS_S8_transcripts_quant_genenames_AgainstGenomicCoordinates\n",
      "Mad-20mm-4hr-DMS_S2_transcripts_quant_genenames_AgainstGenomicCoordinates\n",
      "Mad-10mm-4hr-DMS_S1_transcripts_quant_genenames_AgainstGenomicCoordinates\n",
      "Mad-30mm-8hr-minus_S12_transcripts_quant_genenames_AgainstGenomicCoordinates\n"
     ]
    }
   ],
   "source": [
    "# Get highly expressed features from each file for the genomic data\n",
    "top_features_Genome = []\n",
    "for filename in os.listdir(\"../tmp/Lela_MadrasinReadsTest_June2018/\"):\n",
    "    if \"transcripts_quant_genenames_AgainstGenomicCoordinates\" in filename and ((\"DMS\" in filename and \"Mad-30mm-8hr-DMS\" not in filename) or (\"Mad-30mm-8hr-minus_S12\" in filename)):\n",
    "        print filename\n",
    "        # Read the salmon output file\n",
    "        data_to_read = pd.read_csv(\"../tmp/Lela_MadrasinReadsTest_June2018/\"+filename+\"/\"+fileToRead,header=0,sep=\"\\t\")\n",
    "        # If features with Introns flag is set, only get features that have introns in them\n",
    "        if featuresWithIntrons:\n",
    "            # Only features with introns\n",
    "            data_to_read = data_to_read[(data_to_read[\"Name\"].isin(geneNamesAndTranscriptIDs_withIntrons[0])|data_to_read[\"Name\"].isin(geneNamesAndTranscriptIDs_withIntrons[1]))]\n",
    "        # If removeNC flag is set, only get coding features\n",
    "        if removeNC:\n",
    "            data_to_read = data_to_read[~(data_to_read[\"Name\"].str.contains(\"NR_\")|data_to_read[\"Name\"].str.contains(\"XR_\")|data_to_read[\"Name\"].isin(noncodingFeatures))]\n",
    "        # Sort the data by TPM\n",
    "        data_to_read_sorted = data_to_read.sort_values(by=[\"TPM\"],ascending=False)\n",
    "        # Grab the names of the first 100 features\n",
    "        if numFeatures==0:\n",
    "            top_features_Genome.extend(list(data_to_read_sorted[\"Name\"].values))\n",
    "        else:\n",
    "            top_features_Genome.extend(list(data_to_read_sorted.iloc[range(numFeatures),0].values))"
   ]
  },
  {
   "cell_type": "code",
   "execution_count": 67,
   "metadata": {},
   "outputs": [
    {
     "name": "stdout",
     "output_type": "stream",
     "text": [
      "184\n"
     ]
    }
   ],
   "source": [
    "# Combine the two feature files together to get a unique list\n",
    "unique_top_features = list(set(top_features_Genome + top_features_Transcriptome))\n",
    "print(len(unique_top_features))"
   ]
  },
  {
   "cell_type": "code",
   "execution_count": 68,
   "metadata": {},
   "outputs": [
    {
     "name": "stdout",
     "output_type": "stream",
     "text": [
      "Mad-30mm-8hr-minus_S12_transcripts_quant_genenames\n",
      "Mad-20mm-8hr-DMS_S8_transcripts_quant_genenames\n",
      "Mad-10mm-8hr-DMS_S7_transcripts_quant_genenames\n",
      "Mad-20mm-4hr-DMS_S2_transcripts_quant_genenames\n",
      "Mad-30mm-4hr-minus_S6_transcripts_quant_genenames\n",
      "Mad-10mm-4hr-DMS_S1_transcripts_quant_genenames\n",
      "Mad-30mm-8hr-DMS_S9_transcripts_quant_genenames\n",
      "Mad-20mm-8hr-minus_S11_transcripts_quant_genenames\n",
      "Mad-20mm-4hr-minus_S5_transcripts_quant_genenames\n",
      "Mad-10mm-4hr-minus_S4_transcripts_quant_genenames\n",
      "Mad-10mm-8hr-minus_S10_transcripts_quant_genenames\n",
      "Mad-30mm-4hr-DMS_S3_transcripts_quant_genenames\n"
     ]
    }
   ],
   "source": [
    "# Create a data frame with unique top features as column\n",
    "feature_readCounts_transcriptome = pd.DataFrame({\"feature\":sorted(unique_top_features)})\n",
    "# For the unique features, get the TPM for each of them and store in a data frame\n",
    "# Read in the Count files \n",
    "for filename in os.listdir(\"../tmp/Lela_MadrasinReadsTest_June2018/\"):\n",
    "    current_columns = list(feature_readCounts_transcriptome.columns.values)\n",
    "    if \"transcripts_quant_genenames\" in filename and \"transcripts_quant_genenames_\" not in filename:\n",
    "        print filename\n",
    "        current_columns.append(filename.split(\"_transcripts\")[0])\n",
    "        data_to_read = pd.read_csv(\"../tmp/Lela_MadrasinReadsTest_June2018/\"+filename+\"/\"+fileToRead,header=0,sep=\"\\t\")\n",
    "        data_GetFeatures = data_to_read[data_to_read[\"Name\"].isin(unique_top_features)]\n",
    "        data_sortedBy_FeatureName = data_GetFeatures.sort_values(by=\"Name\")\n",
    "        data_sortedBy_FeatureName = data_sortedBy_FeatureName.reset_index(drop=True)\n",
    "        feature_readCounts_transcriptome = pd.concat([feature_readCounts_transcriptome,data_sortedBy_FeatureName[\"TPM\"]],axis=1,ignore_index=True)\n",
    "        feature_readCounts_transcriptome.columns = current_columns"
   ]
  },
  {
   "cell_type": "code",
   "execution_count": 69,
   "metadata": {},
   "outputs": [
    {
     "name": "stdout",
     "output_type": "stream",
     "text": [
      "(184, 12)\n"
     ]
    },
    {
     "data": {
      "text/html": [
       "<div>\n",
       "<style scoped>\n",
       "    .dataframe tbody tr th:only-of-type {\n",
       "        vertical-align: middle;\n",
       "    }\n",
       "\n",
       "    .dataframe tbody tr th {\n",
       "        vertical-align: top;\n",
       "    }\n",
       "\n",
       "    .dataframe thead th {\n",
       "        text-align: right;\n",
       "    }\n",
       "</style>\n",
       "<table border=\"1\" class=\"dataframe\">\n",
       "  <thead>\n",
       "    <tr style=\"text-align: right;\">\n",
       "      <th></th>\n",
       "      <th>Mad-30mm-8hr-minus_S12</th>\n",
       "      <th>Mad-20mm-8hr-DMS_S8</th>\n",
       "      <th>Mad-10mm-8hr-DMS_S7</th>\n",
       "      <th>Mad-20mm-4hr-DMS_S2</th>\n",
       "      <th>Mad-30mm-4hr-minus_S6</th>\n",
       "      <th>Mad-10mm-4hr-DMS_S1</th>\n",
       "      <th>Mad-30mm-8hr-DMS_S9</th>\n",
       "      <th>Mad-20mm-8hr-minus_S11</th>\n",
       "      <th>Mad-20mm-4hr-minus_S5</th>\n",
       "      <th>Mad-10mm-4hr-minus_S4</th>\n",
       "      <th>Mad-10mm-8hr-minus_S10</th>\n",
       "      <th>Mad-30mm-4hr-DMS_S3</th>\n",
       "    </tr>\n",
       "  </thead>\n",
       "  <tbody>\n",
       "    <tr>\n",
       "      <th>ACTB</th>\n",
       "      <td>1419.660</td>\n",
       "      <td>1418.540</td>\n",
       "      <td>1338.7600</td>\n",
       "      <td>1617.6700</td>\n",
       "      <td>2264.1900</td>\n",
       "      <td>1784.8500</td>\n",
       "      <td>1787.0600</td>\n",
       "      <td>1924.070</td>\n",
       "      <td>2530.640</td>\n",
       "      <td>2046.890</td>\n",
       "      <td>1959.640</td>\n",
       "      <td>1346.8100</td>\n",
       "    </tr>\n",
       "    <tr>\n",
       "      <th>AEN</th>\n",
       "      <td>92.409</td>\n",
       "      <td>90.672</td>\n",
       "      <td>108.9560</td>\n",
       "      <td>92.7874</td>\n",
       "      <td>83.4827</td>\n",
       "      <td>80.5301</td>\n",
       "      <td>72.7791</td>\n",
       "      <td>272.079</td>\n",
       "      <td>100.843</td>\n",
       "      <td>170.150</td>\n",
       "      <td>133.278</td>\n",
       "      <td>46.8302</td>\n",
       "    </tr>\n",
       "    <tr>\n",
       "      <th>ALDOA</th>\n",
       "      <td>141.697</td>\n",
       "      <td>145.081</td>\n",
       "      <td>137.7210</td>\n",
       "      <td>154.5580</td>\n",
       "      <td>230.4310</td>\n",
       "      <td>150.1460</td>\n",
       "      <td>178.2020</td>\n",
       "      <td>248.159</td>\n",
       "      <td>255.007</td>\n",
       "      <td>178.638</td>\n",
       "      <td>233.420</td>\n",
       "      <td>106.3790</td>\n",
       "    </tr>\n",
       "    <tr>\n",
       "      <th>ANXA6</th>\n",
       "      <td>113.612</td>\n",
       "      <td>94.141</td>\n",
       "      <td>93.0014</td>\n",
       "      <td>123.0590</td>\n",
       "      <td>353.8490</td>\n",
       "      <td>124.1020</td>\n",
       "      <td>334.9680</td>\n",
       "      <td>309.576</td>\n",
       "      <td>300.164</td>\n",
       "      <td>334.148</td>\n",
       "      <td>300.044</td>\n",
       "      <td>107.0550</td>\n",
       "    </tr>\n",
       "    <tr>\n",
       "      <th>ARPC2</th>\n",
       "      <td>149.001</td>\n",
       "      <td>112.110</td>\n",
       "      <td>95.5004</td>\n",
       "      <td>138.7400</td>\n",
       "      <td>383.5550</td>\n",
       "      <td>152.2960</td>\n",
       "      <td>302.5820</td>\n",
       "      <td>335.065</td>\n",
       "      <td>348.396</td>\n",
       "      <td>313.504</td>\n",
       "      <td>300.337</td>\n",
       "      <td>123.6100</td>\n",
       "    </tr>\n",
       "  </tbody>\n",
       "</table>\n",
       "</div>"
      ],
      "text/plain": [
       "       Mad-30mm-8hr-minus_S12  Mad-20mm-8hr-DMS_S8  Mad-10mm-8hr-DMS_S7  \\\n",
       "ACTB                 1419.660             1418.540            1338.7600   \n",
       "AEN                    92.409               90.672             108.9560   \n",
       "ALDOA                 141.697              145.081             137.7210   \n",
       "ANXA6                 113.612               94.141              93.0014   \n",
       "ARPC2                 149.001              112.110              95.5004   \n",
       "\n",
       "       Mad-20mm-4hr-DMS_S2  Mad-30mm-4hr-minus_S6  Mad-10mm-4hr-DMS_S1  \\\n",
       "ACTB             1617.6700              2264.1900            1784.8500   \n",
       "AEN                92.7874                83.4827              80.5301   \n",
       "ALDOA             154.5580               230.4310             150.1460   \n",
       "ANXA6             123.0590               353.8490             124.1020   \n",
       "ARPC2             138.7400               383.5550             152.2960   \n",
       "\n",
       "       Mad-30mm-8hr-DMS_S9  Mad-20mm-8hr-minus_S11  Mad-20mm-4hr-minus_S5  \\\n",
       "ACTB             1787.0600                1924.070               2530.640   \n",
       "AEN                72.7791                 272.079                100.843   \n",
       "ALDOA             178.2020                 248.159                255.007   \n",
       "ANXA6             334.9680                 309.576                300.164   \n",
       "ARPC2             302.5820                 335.065                348.396   \n",
       "\n",
       "       Mad-10mm-4hr-minus_S4  Mad-10mm-8hr-minus_S10  Mad-30mm-4hr-DMS_S3  \n",
       "ACTB                2046.890                1959.640            1346.8100  \n",
       "AEN                  170.150                 133.278              46.8302  \n",
       "ALDOA                178.638                 233.420             106.3790  \n",
       "ANXA6                334.148                 300.044             107.0550  \n",
       "ARPC2                313.504                 300.337             123.6100  "
      ]
     },
     "execution_count": 69,
     "metadata": {},
     "output_type": "execute_result"
    }
   ],
   "source": [
    "feature_readCounts_transcriptome = feature_readCounts_transcriptome.iloc[:,range(1,feature_readCounts_transcriptome.shape[1])]\n",
    "feature_readCounts_transcriptome.index = sorted(unique_top_features)\n",
    "print feature_readCounts_transcriptome.shape\n",
    "feature_readCounts_transcriptome.head()"
   ]
  },
  {
   "cell_type": "code",
   "execution_count": 70,
   "metadata": {},
   "outputs": [
    {
     "name": "stdout",
     "output_type": "stream",
     "text": [
      "Mad-10mm-8hr-DMS_S7_transcripts_quant_genenames_AgainstGenomicCoordinates\n",
      "Mad-10mm-8hr-minus_S10_transcripts_quant_genenames_AgainstGenomicCoordinates\n",
      "Mad-20mm-4hr-minus_S5_transcripts_quant_genenames_AgainstGenomicCoordinates\n",
      "Mad-10mm-4hr-minus_S4_transcripts_quant_genenames_AgainstGenomicCoordinates\n",
      "Mad-20mm-8hr-minus_S11_transcripts_quant_genenames_AgainstGenomicCoordinates\n",
      "Mad-30mm-4hr-DMS_S3_transcripts_quant_genenames_AgainstGenomicCoordinates\n",
      "Mad-20mm-8hr-DMS_S8_transcripts_quant_genenames_AgainstGenomicCoordinates\n",
      "Mad-30mm-4hr-minus_S6_transcripts_quant_genenames_AgainstGenomicCoordinates\n",
      "Mad-30mm-8hr-DMS_S9_transcripts_quant_genenames_AgainstGenomicCoordinates\n",
      "Mad-20mm-4hr-DMS_S2_transcripts_quant_genenames_AgainstGenomicCoordinates\n",
      "Mad-10mm-4hr-DMS_S1_transcripts_quant_genenames_AgainstGenomicCoordinates\n",
      "Mad-30mm-8hr-minus_S12_transcripts_quant_genenames_AgainstGenomicCoordinates\n"
     ]
    }
   ],
   "source": [
    "# Create a data frame with unique top features as column\n",
    "feature_readCounts_genome = pd.DataFrame({\"feature\":sorted(unique_top_features)})\n",
    "# For the unique features, get the TPM for each of them and store in a data frame\n",
    "# Read in the Count files \n",
    "for filename in os.listdir(\"../tmp/Lela_MadrasinReadsTest_June2018/\"):\n",
    "    current_columns = list(feature_readCounts_genome.columns.values)\n",
    "    if \"transcripts_quant_genenames_AgainstGenomicCoordinates\" in filename:\n",
    "        print filename\n",
    "        current_columns.append(filename.split(\"_transcripts\")[0])\n",
    "        data_to_read = pd.read_csv(\"../tmp/Lela_MadrasinReadsTest_June2018/\"+filename+\"/\"+fileToRead,header=0,sep=\"\\t\")\n",
    "        data_GetFeatures = data_to_read[data_to_read[\"Name\"].isin(unique_top_features)]\n",
    "        data_sortedBy_FeatureName = data_GetFeatures.sort_values(by=\"Name\")\n",
    "        data_sortedBy_FeatureName = data_sortedBy_FeatureName.reset_index(drop=True)\n",
    "        feature_readCounts_genome = pd.concat([feature_readCounts_genome,data_sortedBy_FeatureName[\"TPM\"]],axis=1,ignore_index=True)\n",
    "        feature_readCounts_genome.columns = current_columns"
   ]
  },
  {
   "cell_type": "code",
   "execution_count": 71,
   "metadata": {},
   "outputs": [
    {
     "name": "stdout",
     "output_type": "stream",
     "text": [
      "(184, 12)\n"
     ]
    },
    {
     "data": {
      "text/html": [
       "<div>\n",
       "<style scoped>\n",
       "    .dataframe tbody tr th:only-of-type {\n",
       "        vertical-align: middle;\n",
       "    }\n",
       "\n",
       "    .dataframe tbody tr th {\n",
       "        vertical-align: top;\n",
       "    }\n",
       "\n",
       "    .dataframe thead th {\n",
       "        text-align: right;\n",
       "    }\n",
       "</style>\n",
       "<table border=\"1\" class=\"dataframe\">\n",
       "  <thead>\n",
       "    <tr style=\"text-align: right;\">\n",
       "      <th></th>\n",
       "      <th>Mad-10mm-8hr-DMS_S7</th>\n",
       "      <th>Mad-10mm-8hr-minus_S10</th>\n",
       "      <th>Mad-20mm-4hr-minus_S5</th>\n",
       "      <th>Mad-10mm-4hr-minus_S4</th>\n",
       "      <th>Mad-20mm-8hr-minus_S11</th>\n",
       "      <th>Mad-30mm-4hr-DMS_S3</th>\n",
       "      <th>Mad-20mm-8hr-DMS_S8</th>\n",
       "      <th>Mad-30mm-4hr-minus_S6</th>\n",
       "      <th>Mad-30mm-8hr-DMS_S9</th>\n",
       "      <th>Mad-20mm-4hr-DMS_S2</th>\n",
       "      <th>Mad-10mm-4hr-DMS_S1</th>\n",
       "      <th>Mad-30mm-8hr-minus_S12</th>\n",
       "    </tr>\n",
       "  </thead>\n",
       "  <tbody>\n",
       "    <tr>\n",
       "      <th>ACTB</th>\n",
       "      <td>788.45800</td>\n",
       "      <td>1041.9900</td>\n",
       "      <td>1446.8000</td>\n",
       "      <td>1132.2800</td>\n",
       "      <td>1019.4000</td>\n",
       "      <td>813.9420</td>\n",
       "      <td>860.0130</td>\n",
       "      <td>1352.9700</td>\n",
       "      <td>988.0210</td>\n",
       "      <td>1027.7000</td>\n",
       "      <td>1079.8700</td>\n",
       "      <td>897.6990</td>\n",
       "    </tr>\n",
       "    <tr>\n",
       "      <th>AEN</th>\n",
       "      <td>45.59610</td>\n",
       "      <td>86.6308</td>\n",
       "      <td>67.9132</td>\n",
       "      <td>88.3881</td>\n",
       "      <td>140.4840</td>\n",
       "      <td>37.6133</td>\n",
       "      <td>57.2531</td>\n",
       "      <td>66.7044</td>\n",
       "      <td>53.4416</td>\n",
       "      <td>60.7917</td>\n",
       "      <td>36.5348</td>\n",
       "      <td>74.8112</td>\n",
       "    </tr>\n",
       "    <tr>\n",
       "      <th>ALDOA</th>\n",
       "      <td>56.66090</td>\n",
       "      <td>103.1770</td>\n",
       "      <td>125.0940</td>\n",
       "      <td>84.4484</td>\n",
       "      <td>123.9660</td>\n",
       "      <td>46.8823</td>\n",
       "      <td>62.1927</td>\n",
       "      <td>117.0620</td>\n",
       "      <td>81.4648</td>\n",
       "      <td>69.4673</td>\n",
       "      <td>62.0293</td>\n",
       "      <td>66.3445</td>\n",
       "    </tr>\n",
       "    <tr>\n",
       "      <th>ANXA6</th>\n",
       "      <td>9.63951</td>\n",
       "      <td>28.9916</td>\n",
       "      <td>32.1466</td>\n",
       "      <td>36.9606</td>\n",
       "      <td>36.5429</td>\n",
       "      <td>12.4697</td>\n",
       "      <td>11.3294</td>\n",
       "      <td>39.3860</td>\n",
       "      <td>32.4017</td>\n",
       "      <td>16.6425</td>\n",
       "      <td>14.1272</td>\n",
       "      <td>16.1444</td>\n",
       "    </tr>\n",
       "    <tr>\n",
       "      <th>ARPC2</th>\n",
       "      <td>6.85412</td>\n",
       "      <td>27.5260</td>\n",
       "      <td>28.5818</td>\n",
       "      <td>22.3331</td>\n",
       "      <td>26.3199</td>\n",
       "      <td>10.9397</td>\n",
       "      <td>13.2951</td>\n",
       "      <td>33.2437</td>\n",
       "      <td>21.7832</td>\n",
       "      <td>14.5453</td>\n",
       "      <td>10.0129</td>\n",
       "      <td>18.2133</td>\n",
       "    </tr>\n",
       "  </tbody>\n",
       "</table>\n",
       "</div>"
      ],
      "text/plain": [
       "       Mad-10mm-8hr-DMS_S7  Mad-10mm-8hr-minus_S10  Mad-20mm-4hr-minus_S5  \\\n",
       "ACTB             788.45800               1041.9900              1446.8000   \n",
       "AEN               45.59610                 86.6308                67.9132   \n",
       "ALDOA             56.66090                103.1770               125.0940   \n",
       "ANXA6              9.63951                 28.9916                32.1466   \n",
       "ARPC2              6.85412                 27.5260                28.5818   \n",
       "\n",
       "       Mad-10mm-4hr-minus_S4  Mad-20mm-8hr-minus_S11  Mad-30mm-4hr-DMS_S3  \\\n",
       "ACTB               1132.2800               1019.4000             813.9420   \n",
       "AEN                  88.3881                140.4840              37.6133   \n",
       "ALDOA                84.4484                123.9660              46.8823   \n",
       "ANXA6                36.9606                 36.5429              12.4697   \n",
       "ARPC2                22.3331                 26.3199              10.9397   \n",
       "\n",
       "       Mad-20mm-8hr-DMS_S8  Mad-30mm-4hr-minus_S6  Mad-30mm-8hr-DMS_S9  \\\n",
       "ACTB              860.0130              1352.9700             988.0210   \n",
       "AEN                57.2531                66.7044              53.4416   \n",
       "ALDOA              62.1927               117.0620              81.4648   \n",
       "ANXA6              11.3294                39.3860              32.4017   \n",
       "ARPC2              13.2951                33.2437              21.7832   \n",
       "\n",
       "       Mad-20mm-4hr-DMS_S2  Mad-10mm-4hr-DMS_S1  Mad-30mm-8hr-minus_S12  \n",
       "ACTB             1027.7000            1079.8700                897.6990  \n",
       "AEN                60.7917              36.5348                 74.8112  \n",
       "ALDOA              69.4673              62.0293                 66.3445  \n",
       "ANXA6              16.6425              14.1272                 16.1444  \n",
       "ARPC2              14.5453              10.0129                 18.2133  "
      ]
     },
     "execution_count": 71,
     "metadata": {},
     "output_type": "execute_result"
    }
   ],
   "source": [
    "feature_readCounts_genome = feature_readCounts_genome.iloc[:,range(1,feature_readCounts_genome.shape[1])]\n",
    "feature_readCounts_genome.index = sorted(unique_top_features)\n",
    "print feature_readCounts_genome.shape\n",
    "feature_readCounts_genome.head()"
   ]
  },
  {
   "cell_type": "code",
   "execution_count": 73,
   "metadata": {},
   "outputs": [
    {
     "name": "stdout",
     "output_type": "stream",
     "text": [
      "(184, 12)\n"
     ]
    },
    {
     "data": {
      "text/html": [
       "<div>\n",
       "<style scoped>\n",
       "    .dataframe tbody tr th:only-of-type {\n",
       "        vertical-align: middle;\n",
       "    }\n",
       "\n",
       "    .dataframe tbody tr th {\n",
       "        vertical-align: top;\n",
       "    }\n",
       "\n",
       "    .dataframe thead th {\n",
       "        text-align: right;\n",
       "    }\n",
       "</style>\n",
       "<table border=\"1\" class=\"dataframe\">\n",
       "  <thead>\n",
       "    <tr style=\"text-align: right;\">\n",
       "      <th></th>\n",
       "      <th>Mad-10mm-4hr-DMS_S1</th>\n",
       "      <th>Mad-10mm-4hr-minus_S4</th>\n",
       "      <th>Mad-10mm-8hr-DMS_S7</th>\n",
       "      <th>Mad-10mm-8hr-minus_S10</th>\n",
       "      <th>Mad-20mm-4hr-DMS_S2</th>\n",
       "      <th>Mad-20mm-4hr-minus_S5</th>\n",
       "      <th>Mad-20mm-8hr-DMS_S8</th>\n",
       "      <th>Mad-20mm-8hr-minus_S11</th>\n",
       "      <th>Mad-30mm-4hr-DMS_S3</th>\n",
       "      <th>Mad-30mm-4hr-minus_S6</th>\n",
       "      <th>Mad-30mm-8hr-DMS_S9</th>\n",
       "      <th>Mad-30mm-8hr-minus_S12</th>\n",
       "    </tr>\n",
       "  </thead>\n",
       "  <tbody>\n",
       "    <tr>\n",
       "      <th>ACTB</th>\n",
       "      <td>0.605020</td>\n",
       "      <td>0.553171</td>\n",
       "      <td>0.588946</td>\n",
       "      <td>0.531725</td>\n",
       "      <td>0.635296</td>\n",
       "      <td>0.571713</td>\n",
       "      <td>0.606266</td>\n",
       "      <td>0.529814</td>\n",
       "      <td>0.604348</td>\n",
       "      <td>0.597551</td>\n",
       "      <td>0.552875</td>\n",
       "      <td>0.632334</td>\n",
       "    </tr>\n",
       "    <tr>\n",
       "      <th>AEN</th>\n",
       "      <td>0.453679</td>\n",
       "      <td>0.519472</td>\n",
       "      <td>0.418482</td>\n",
       "      <td>0.650001</td>\n",
       "      <td>0.655172</td>\n",
       "      <td>0.673455</td>\n",
       "      <td>0.631431</td>\n",
       "      <td>0.516335</td>\n",
       "      <td>0.803185</td>\n",
       "      <td>0.799021</td>\n",
       "      <td>0.734299</td>\n",
       "      <td>0.809566</td>\n",
       "    </tr>\n",
       "    <tr>\n",
       "      <th>ALDOA</th>\n",
       "      <td>0.413127</td>\n",
       "      <td>0.472735</td>\n",
       "      <td>0.411418</td>\n",
       "      <td>0.442023</td>\n",
       "      <td>0.449458</td>\n",
       "      <td>0.490551</td>\n",
       "      <td>0.428676</td>\n",
       "      <td>0.499543</td>\n",
       "      <td>0.440710</td>\n",
       "      <td>0.508013</td>\n",
       "      <td>0.457149</td>\n",
       "      <td>0.468214</td>\n",
       "    </tr>\n",
       "    <tr>\n",
       "      <th>ANXA6</th>\n",
       "      <td>0.113835</td>\n",
       "      <td>0.110611</td>\n",
       "      <td>0.103649</td>\n",
       "      <td>0.096624</td>\n",
       "      <td>0.135240</td>\n",
       "      <td>0.107097</td>\n",
       "      <td>0.120345</td>\n",
       "      <td>0.118042</td>\n",
       "      <td>0.116479</td>\n",
       "      <td>0.111307</td>\n",
       "      <td>0.096731</td>\n",
       "      <td>0.142101</td>\n",
       "    </tr>\n",
       "    <tr>\n",
       "      <th>ARPC2</th>\n",
       "      <td>0.065746</td>\n",
       "      <td>0.071237</td>\n",
       "      <td>0.071771</td>\n",
       "      <td>0.091650</td>\n",
       "      <td>0.104839</td>\n",
       "      <td>0.082038</td>\n",
       "      <td>0.118590</td>\n",
       "      <td>0.078552</td>\n",
       "      <td>0.088502</td>\n",
       "      <td>0.086673</td>\n",
       "      <td>0.071991</td>\n",
       "      <td>0.122236</td>\n",
       "    </tr>\n",
       "  </tbody>\n",
       "</table>\n",
       "</div>"
      ],
      "text/plain": [
       "       Mad-10mm-4hr-DMS_S1  Mad-10mm-4hr-minus_S4  Mad-10mm-8hr-DMS_S7  \\\n",
       "ACTB              0.605020               0.553171             0.588946   \n",
       "AEN               0.453679               0.519472             0.418482   \n",
       "ALDOA             0.413127               0.472735             0.411418   \n",
       "ANXA6             0.113835               0.110611             0.103649   \n",
       "ARPC2             0.065746               0.071237             0.071771   \n",
       "\n",
       "       Mad-10mm-8hr-minus_S10  Mad-20mm-4hr-DMS_S2  Mad-20mm-4hr-minus_S5  \\\n",
       "ACTB                 0.531725             0.635296               0.571713   \n",
       "AEN                  0.650001             0.655172               0.673455   \n",
       "ALDOA                0.442023             0.449458               0.490551   \n",
       "ANXA6                0.096624             0.135240               0.107097   \n",
       "ARPC2                0.091650             0.104839               0.082038   \n",
       "\n",
       "       Mad-20mm-8hr-DMS_S8  Mad-20mm-8hr-minus_S11  Mad-30mm-4hr-DMS_S3  \\\n",
       "ACTB              0.606266                0.529814             0.604348   \n",
       "AEN               0.631431                0.516335             0.803185   \n",
       "ALDOA             0.428676                0.499543             0.440710   \n",
       "ANXA6             0.120345                0.118042             0.116479   \n",
       "ARPC2             0.118590                0.078552             0.088502   \n",
       "\n",
       "       Mad-30mm-4hr-minus_S6  Mad-30mm-8hr-DMS_S9  Mad-30mm-8hr-minus_S12  \n",
       "ACTB                0.597551             0.552875                0.632334  \n",
       "AEN                 0.799021             0.734299                0.809566  \n",
       "ALDOA               0.508013             0.457149                0.468214  \n",
       "ANXA6               0.111307             0.096731                0.142101  \n",
       "ARPC2               0.086673             0.071991                0.122236  "
      ]
     },
     "execution_count": 73,
     "metadata": {},
     "output_type": "execute_result"
    }
   ],
   "source": [
    "# Let's get ratios of feature counts for transcriptomic vs genomic\n",
    "ratios_readCounts = (feature_readCounts_genome)/(feature_readCounts_transcriptome)\n",
    "print ratios_readCounts.shape\n",
    "ratios_readCounts.head()"
   ]
  },
  {
   "cell_type": "code",
   "execution_count": 74,
   "metadata": {},
   "outputs": [
    {
     "data": {
      "text/plain": [
       "['Mad-10mm-4hr-DMS_S1',\n",
       " 'Mad-10mm-8hr-DMS_S7',\n",
       " 'Mad-20mm-4hr-DMS_S2',\n",
       " 'Mad-20mm-8hr-DMS_S8',\n",
       " 'Mad-30mm-4hr-DMS_S3',\n",
       " 'Mad-30mm-8hr-minus_S12']"
      ]
     },
     "execution_count": 74,
     "metadata": {},
     "output_type": "execute_result"
    }
   ],
   "source": [
    "# Get ratios for just DMS data\n",
    "columns_DMS = [i for i in ratios_readCounts.columns.values if (\"DMS\" in i and \"Mad-30mm-8hr-DMS\" not in i) or (\"Mad-30mm-8hr-minus_S12\" in i)  ]\n",
    "columns_DMS"
   ]
  },
  {
   "cell_type": "code",
   "execution_count": 75,
   "metadata": {},
   "outputs": [
    {
     "data": {
      "text/html": [
       "<div>\n",
       "<style scoped>\n",
       "    .dataframe tbody tr th:only-of-type {\n",
       "        vertical-align: middle;\n",
       "    }\n",
       "\n",
       "    .dataframe tbody tr th {\n",
       "        vertical-align: top;\n",
       "    }\n",
       "\n",
       "    .dataframe thead th {\n",
       "        text-align: right;\n",
       "    }\n",
       "</style>\n",
       "<table border=\"1\" class=\"dataframe\">\n",
       "  <thead>\n",
       "    <tr style=\"text-align: right;\">\n",
       "      <th></th>\n",
       "      <th>Mad-10mm-4hr-DMS_S1</th>\n",
       "      <th>Mad-10mm-8hr-DMS_S7</th>\n",
       "      <th>Mad-20mm-4hr-DMS_S2</th>\n",
       "      <th>Mad-20mm-8hr-DMS_S8</th>\n",
       "      <th>Mad-30mm-4hr-DMS_S3</th>\n",
       "      <th>Mad-30mm-8hr-minus_S12</th>\n",
       "    </tr>\n",
       "  </thead>\n",
       "  <tbody>\n",
       "    <tr>\n",
       "      <th>ACTB</th>\n",
       "      <td>0.605020</td>\n",
       "      <td>0.588946</td>\n",
       "      <td>0.635296</td>\n",
       "      <td>0.606266</td>\n",
       "      <td>0.604348</td>\n",
       "      <td>0.632334</td>\n",
       "    </tr>\n",
       "    <tr>\n",
       "      <th>AEN</th>\n",
       "      <td>0.453679</td>\n",
       "      <td>0.418482</td>\n",
       "      <td>0.655172</td>\n",
       "      <td>0.631431</td>\n",
       "      <td>0.803185</td>\n",
       "      <td>0.809566</td>\n",
       "    </tr>\n",
       "    <tr>\n",
       "      <th>ALDOA</th>\n",
       "      <td>0.413127</td>\n",
       "      <td>0.411418</td>\n",
       "      <td>0.449458</td>\n",
       "      <td>0.428676</td>\n",
       "      <td>0.440710</td>\n",
       "      <td>0.468214</td>\n",
       "    </tr>\n",
       "    <tr>\n",
       "      <th>ANXA6</th>\n",
       "      <td>0.113835</td>\n",
       "      <td>0.103649</td>\n",
       "      <td>0.135240</td>\n",
       "      <td>0.120345</td>\n",
       "      <td>0.116479</td>\n",
       "      <td>0.142101</td>\n",
       "    </tr>\n",
       "    <tr>\n",
       "      <th>ARPC2</th>\n",
       "      <td>0.065746</td>\n",
       "      <td>0.071771</td>\n",
       "      <td>0.104839</td>\n",
       "      <td>0.118590</td>\n",
       "      <td>0.088502</td>\n",
       "      <td>0.122236</td>\n",
       "    </tr>\n",
       "  </tbody>\n",
       "</table>\n",
       "</div>"
      ],
      "text/plain": [
       "       Mad-10mm-4hr-DMS_S1  Mad-10mm-8hr-DMS_S7  Mad-20mm-4hr-DMS_S2  \\\n",
       "ACTB              0.605020             0.588946             0.635296   \n",
       "AEN               0.453679             0.418482             0.655172   \n",
       "ALDOA             0.413127             0.411418             0.449458   \n",
       "ANXA6             0.113835             0.103649             0.135240   \n",
       "ARPC2             0.065746             0.071771             0.104839   \n",
       "\n",
       "       Mad-20mm-8hr-DMS_S8  Mad-30mm-4hr-DMS_S3  Mad-30mm-8hr-minus_S12  \n",
       "ACTB              0.606266             0.604348                0.632334  \n",
       "AEN               0.631431             0.803185                0.809566  \n",
       "ALDOA             0.428676             0.440710                0.468214  \n",
       "ANXA6             0.120345             0.116479                0.142101  \n",
       "ARPC2             0.118590             0.088502                0.122236  "
      ]
     },
     "execution_count": 75,
     "metadata": {},
     "output_type": "execute_result"
    }
   ],
   "source": [
    "ratios_readCounts_DMS = ratios_readCounts[columns_DMS]\n",
    "ratios_readCounts_DMS.head()"
   ]
  },
  {
   "cell_type": "code",
   "execution_count": 76,
   "metadata": {},
   "outputs": [
    {
     "data": {
      "text/plain": [
       "Mad-10mm-4hr-DMS_S1       0.455853\n",
       "Mad-10mm-8hr-DMS_S7       0.443383\n",
       "Mad-20mm-4hr-DMS_S2       0.503660\n",
       "Mad-20mm-8hr-DMS_S8       0.485611\n",
       "Mad-30mm-4hr-DMS_S3       0.471188\n",
       "Mad-30mm-8hr-minus_S12    0.513895\n",
       "dtype: float64"
      ]
     },
     "execution_count": 76,
     "metadata": {},
     "output_type": "execute_result"
    }
   ],
   "source": [
    "# Lets the average for every time point and concentration\n",
    "ratios_readCounts_DMS_avg = ratios_readCounts_DMS.apply(np.mean,axis=0)\n",
    "ratios_readCounts_DMS_avg"
   ]
  },
  {
   "cell_type": "code",
   "execution_count": 78,
   "metadata": {},
   "outputs": [
    {
     "data": {
      "text/plain": [
       "(0, 1)"
      ]
     },
     "execution_count": 78,
     "metadata": {},
     "output_type": "execute_result"
    },
    {
     "data": {
      "image/png": "[encoded data removed]",
      "text/plain": [
       "<matplotlib.figure.Figure at 0x7fde53476110>"
      ]
     },
     "metadata": {},
     "output_type": "display_data"
    }
   ],
   "source": [
    "sns.set(font_scale=1)\n",
    "ratios_readCounts_DMS_matrix = ratios_readCounts_DMS.values\n",
    "ax = sns.tsplot(data=ratios_readCounts_DMS_matrix,estimator=np.median)\n",
    "#ax.set(xticklabels=)\n",
    "ax.set_xticklabels(labels=ratios_readCounts_DMS_avg.index.values,rotation=90)\n",
    "plt.ylim(0, 1)"
   ]
  },
  {
   "cell_type": "code",
   "execution_count": null,
   "metadata": {},
   "outputs": [],
   "source": [
    "max_ratio = ratios_readCounts_DMS.apply(max,axis=1)\n",
    "ratios_readCounts_DMS_Normalized = ratios_readCounts_DMS.divide(max_ratio, axis='index')\n",
    "ratios_readCounts_DMS_Normalized.head()"
   ]
  },
  {
   "cell_type": "code",
   "execution_count": null,
   "metadata": {},
   "outputs": [],
   "source": [
    "# Lets the average for every time point and concentration\n",
    "ratios_readCounts_DMS_Normalized_avg = ratios_readCounts_DMS_Normalized.apply(np.mean,axis=0)\n",
    "ratios_readCounts_DMS_Normalized_avg"
   ]
  },
  {
   "cell_type": "code",
   "execution_count": null,
   "metadata": {},
   "outputs": [],
   "source": [
    "sns.set(font_scale=1)\n",
    "ratios_readCounts_DMS_Normalized_matrix = ratios_readCounts_DMS_Normalized.values\n",
    "ax = sns.tsplot(data=ratios_readCounts_DMS_Normalized_matrix,estimator=np.median,ci=\"sd\")\n",
    "#ax.set(xticklabels=)\n",
    "ax.set_xticklabels(labels=ratios_readCounts_DMS_Normalized_avg.index.values,rotation=90)\n",
    "plt.ylim(0, 1.5)"
   ]
  },
  {
   "cell_type": "code",
   "execution_count": null,
   "metadata": {},
   "outputs": [],
   "source": [
    "sns.set(font_scale=2)\n",
    "fig, ax = plt.subplots(figsize=(100,100))\n",
    "#sns.heatmap(ratios_readCounts_DMS,cmap=\"RdBu_r\",vmax=1,vmin=0,yticklabels=True,center=0.5, ax=ax)\n",
    "sns.heatmap(ratios_readCounts_DMS,cmap=sns.light_palette(\"navy\", reverse=False),vmax=1,vmin=0,yticklabels=True, ax=ax)"
   ]
  },
  {
   "cell_type": "code",
   "execution_count": null,
   "metadata": {},
   "outputs": [],
   "source": [
    "ax = sns.clustermap(ratios_readCounts_DMS,cmap=sns.light_palette(\"navy\", reverse=False),annot=False, square=False, yticklabels=True, figsize=(75,75))\n",
    "reordered_indices = ax.dendrogram_row.reordered_ind"
   ]
  },
  {
   "cell_type": "code",
   "execution_count": null,
   "metadata": {},
   "outputs": [],
   "source": [
    "labels_indices_org = ratios_readCounts_DMS.index.values\n",
    "labels_indices_reordered = labels_indices_org[reordered_indices]\n",
    "# Reorder the feature counts indices \n",
    "ratios_readCounts_DMS= ratios_readCounts_DMS.reindex(labels_indices_reordered)"
   ]
  },
  {
   "cell_type": "code",
   "execution_count": null,
   "metadata": {},
   "outputs": [],
   "source": [
    "sns.set(font_scale=2)\n",
    "fig, ax = plt.subplots(figsize=(100,100))\n",
    "#sns.heatmap(ratios_readCounts_DMS,cmap=\"RdBu_r\",vmax=1,vmin=0,yticklabels=True,center=0.5, ax=ax)\n",
    "sns.heatmap(ratios_readCounts_DMS,cmap=sns.light_palette(\"navy\", reverse=False),vmax=1,vmin=0,yticklabels=True, ax=ax)"
   ]
  },
  {
   "cell_type": "code",
   "execution_count": null,
   "metadata": {},
   "outputs": [],
   "source": [
    "sns.set(font_scale=2)\n",
    "fig, ax = plt.subplots(figsize=(100,100))\n",
    "#sns.heatmap(ratios_readCounts_DMS,cmap=\"RdBu_r\",vmax=1,vmin=0,yticklabels=True,center=0.5, ax=ax)\n",
    "sns.heatmap(ratios_readCounts_DMS_Normalized,cmap=sns.light_palette(\"navy\", reverse=False),vmax=1,vmin=0,yticklabels=True, ax=ax)"
   ]
  },
  {
   "cell_type": "code",
   "execution_count": null,
   "metadata": {},
   "outputs": [],
   "source": [
    "ax = sns.clustermap(ratios_readCounts_DMS_Normalized,cmap=sns.light_palette(\"navy\", reverse=False),annot=False, square=False, yticklabels=True, figsize=(75,75))\n",
    "reordered_indices = ax.dendrogram_row.reordered_ind"
   ]
  },
  {
   "cell_type": "code",
   "execution_count": null,
   "metadata": {},
   "outputs": [],
   "source": [
    "labels_indices_org = ratios_readCounts_DMS_Normalized.index.values\n",
    "labels_indices_reordered = labels_indices_org[reordered_indices]\n",
    "# Reorder the feature counts indices \n",
    "ratios_readCounts_DMS_Normalized= ratios_readCounts_DMS_Normalized.reindex(labels_indices_reordered)"
   ]
  },
  {
   "cell_type": "code",
   "execution_count": null,
   "metadata": {},
   "outputs": [],
   "source": [
    "sns.set(font_scale=2)\n",
    "fig, ax = plt.subplots(figsize=(100,100))\n",
    "#sns.heatmap(ratios_readCounts_DMS,cmap=\"RdBu_r\",vmax=1,vmin=0,yticklabels=True,center=0.5, ax=ax)\n",
    "sns.heatmap(ratios_readCounts_DMS_Normalized,cmap=sns.light_palette(\"navy\", reverse=False),vmax=1,vmin=0,yticklabels=True, ax=ax)"
   ]
  },
  {
   "cell_type": "code",
   "execution_count": null,
   "metadata": {},
   "outputs": [],
   "source": []
  }
 ],
 "metadata": {
  "kernelspec": {
   "display_name": "Python 2",
   "language": "python",
   "name": "python2"
  },
  "language_info": {
   "codemirror_mode": {
    "name": "ipython",
    "version": 2
   },
   "file_extension": ".py",
   "mimetype": "text/x-python",
   "name": "python",
   "nbconvert_exporter": "python",
   "pygments_lexer": "ipython2",
   "version": "2.7.6"
  }
 },
 "nbformat": 4,
 "nbformat_minor": 2
}
