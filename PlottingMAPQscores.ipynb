{
 "cells": [
  {
   "cell_type": "markdown",
   "metadata": {},
   "source": [
    "# Plotting MAPQ values from sam files\n",
    "\n",
    "Purpose: This script will be used to create histograms of MAPQ values from Sam files after alignment to compare the plus DMS and minus DMS samples."
   ]
  },
  {
   "cell_type": "code",
   "execution_count": 1,
   "metadata": {},
   "outputs": [],
   "source": [
    "# Variables that store plus and minus sample name and the folder they are in within tmp folder\n",
    "#plusSampleName=\"ShapeMapper1Parms_Bowtie2Alignment_Lela_MadrasinReadsTest_June2018/Mad-20mm-4hr-DMS_S2\"\n",
    "#minusSampleName=\"ShapeMapper1Parms_Bowtie2Alignment_Lela_MadrasinReadsTest_June2018/Mad-20mm-4hr-minus_S5\"\n",
    "plusSampleName=\"Lela_20uM_MadrasinReadsTest_August2018/Madrasin-20uM-4hr-Plus-1_S1\"\n",
    "minusSampleName=\"Lela_20uM_MadrasinReadsTest_August2018/Madrasin-20uM-4hr-Minus-1_S2\""
   ]
  },
  {
   "cell_type": "code",
   "execution_count": 2,
   "metadata": {},
   "outputs": [],
   "source": [
    "%%bash -s \"$plusSampleName\" \"$minusSampleName\"\n",
    "plusname=$1\n",
    "minusname=$2\n",
    "samtools view ../tmp/${plusname}.sam | cut -f5 > ../tmp/${plusname}_Aligned_MAPQscores.txt\n",
    "samtools view ../tmp/${minusname}.sam | cut -f5 > ../tmp/${minusname}_Aligned_MAPQscores.txt"
   ]
  },
  {
   "cell_type": "code",
   "execution_count": 3,
   "metadata": {},
   "outputs": [],
   "source": [
    "import pandas as pd"
   ]
  },
  {
   "cell_type": "code",
   "execution_count": 4,
   "metadata": {},
   "outputs": [
    {
     "name": "stderr",
     "output_type": "stream",
     "text": [
      "/usr/local/lib/python2.7/dist-packages/rpy2/rinterface/__init__.py:186: RRuntimeWarning: Loading required package: ggplot2\n",
      "\n",
      "  warnings.warn(x, RRuntimeWarning)\n",
      "/usr/local/lib/python2.7/dist-packages/rpy2/rinterface/__init__.py:186: RRuntimeWarning: Loading required package: reshape\n",
      "\n",
      "  warnings.warn(x, RRuntimeWarning)\n"
     ]
    },
    {
     "data": {
      "text/plain": [
       "array([1], dtype=int32)"
      ]
     },
     "execution_count": 4,
     "metadata": {},
     "output_type": "execute_result"
    }
   ],
   "source": [
    "# Load R GGplots\n",
    "%load_ext rpy2.ipython\n",
    "%R require(ggplot2)\n",
    "%R require(reshape)"
   ]
  },
  {
   "cell_type": "code",
   "execution_count": 5,
   "metadata": {},
   "outputs": [],
   "source": [
    "# Get the plus data\n",
    "plus = pd.read_csv(\"../tmp/\"+plusSampleName+\"_Aligned_MAPQscores.txt\",header=None)\n",
    "plus.columns = [\"Plus DMS\"]"
   ]
  },
  {
   "cell_type": "code",
   "execution_count": 6,
   "metadata": {},
   "outputs": [
    {
     "data": {
      "text/html": [
       "<div>\n",
       "<style scoped>\n",
       "    .dataframe tbody tr th:only-of-type {\n",
       "        vertical-align: middle;\n",
       "    }\n",
       "\n",
       "    .dataframe tbody tr th {\n",
       "        vertical-align: top;\n",
       "    }\n",
       "\n",
       "    .dataframe thead th {\n",
       "        text-align: right;\n",
       "    }\n",
       "</style>\n",
       "<table border=\"1\" class=\"dataframe\">\n",
       "  <thead>\n",
       "    <tr style=\"text-align: right;\">\n",
       "      <th></th>\n",
       "      <th>Sample</th>\n",
       "      <th>MAPQ</th>\n",
       "    </tr>\n",
       "  </thead>\n",
       "  <tbody>\n",
       "    <tr>\n",
       "      <th>0</th>\n",
       "      <td>Plus DMS</td>\n",
       "      <td>44</td>\n",
       "    </tr>\n",
       "    <tr>\n",
       "      <th>1</th>\n",
       "      <td>Plus DMS</td>\n",
       "      <td>0</td>\n",
       "    </tr>\n",
       "    <tr>\n",
       "      <th>2</th>\n",
       "      <td>Plus DMS</td>\n",
       "      <td>40</td>\n",
       "    </tr>\n",
       "    <tr>\n",
       "      <th>3</th>\n",
       "      <td>Plus DMS</td>\n",
       "      <td>0</td>\n",
       "    </tr>\n",
       "    <tr>\n",
       "      <th>4</th>\n",
       "      <td>Plus DMS</td>\n",
       "      <td>9</td>\n",
       "    </tr>\n",
       "  </tbody>\n",
       "</table>\n",
       "</div>"
      ],
      "text/plain": [
       "     Sample  MAPQ\n",
       "0  Plus DMS    44\n",
       "1  Plus DMS     0\n",
       "2  Plus DMS    40\n",
       "3  Plus DMS     0\n",
       "4  Plus DMS     9"
      ]
     },
     "execution_count": 6,
     "metadata": {},
     "output_type": "execute_result"
    }
   ],
   "source": [
    "# Melt the plus data\n",
    "plus_melted = plus.melt(value_vars=[\"Plus DMS\"])\n",
    "plus_melted.columns = [\"Sample\",\"MAPQ\"]\n",
    "plus_melted.head()"
   ]
  },
  {
   "cell_type": "code",
   "execution_count": 7,
   "metadata": {},
   "outputs": [],
   "source": [
    "# Get the minus data\n",
    "minus = pd.read_csv(\"../tmp/\"+minusSampleName+\"_Aligned_MAPQscores.txt\",header=None)\n",
    "minus.columns = [\"Minus DMS\"]"
   ]
  },
  {
   "cell_type": "code",
   "execution_count": 8,
   "metadata": {},
   "outputs": [
    {
     "data": {
      "text/html": [
       "<div>\n",
       "<style scoped>\n",
       "    .dataframe tbody tr th:only-of-type {\n",
       "        vertical-align: middle;\n",
       "    }\n",
       "\n",
       "    .dataframe tbody tr th {\n",
       "        vertical-align: top;\n",
       "    }\n",
       "\n",
       "    .dataframe thead th {\n",
       "        text-align: right;\n",
       "    }\n",
       "</style>\n",
       "<table border=\"1\" class=\"dataframe\">\n",
       "  <thead>\n",
       "    <tr style=\"text-align: right;\">\n",
       "      <th></th>\n",
       "      <th>Sample</th>\n",
       "      <th>MAPQ</th>\n",
       "    </tr>\n",
       "  </thead>\n",
       "  <tbody>\n",
       "    <tr>\n",
       "      <th>0</th>\n",
       "      <td>Minus DMS</td>\n",
       "      <td>44</td>\n",
       "    </tr>\n",
       "    <tr>\n",
       "      <th>1</th>\n",
       "      <td>Minus DMS</td>\n",
       "      <td>2</td>\n",
       "    </tr>\n",
       "    <tr>\n",
       "      <th>2</th>\n",
       "      <td>Minus DMS</td>\n",
       "      <td>42</td>\n",
       "    </tr>\n",
       "    <tr>\n",
       "      <th>3</th>\n",
       "      <td>Minus DMS</td>\n",
       "      <td>42</td>\n",
       "    </tr>\n",
       "    <tr>\n",
       "      <th>4</th>\n",
       "      <td>Minus DMS</td>\n",
       "      <td>41</td>\n",
       "    </tr>\n",
       "  </tbody>\n",
       "</table>\n",
       "</div>"
      ],
      "text/plain": [
       "      Sample  MAPQ\n",
       "0  Minus DMS    44\n",
       "1  Minus DMS     2\n",
       "2  Minus DMS    42\n",
       "3  Minus DMS    42\n",
       "4  Minus DMS    41"
      ]
     },
     "execution_count": 8,
     "metadata": {},
     "output_type": "execute_result"
    }
   ],
   "source": [
    "# Melt the minus data\n",
    "minus_melted = minus.melt(value_vars=[\"Minus DMS\"])\n",
    "minus_melted.columns = [\"Sample\",\"MAPQ\"]\n",
    "minus_melted.head()"
   ]
  },
  {
   "cell_type": "code",
   "execution_count": 9,
   "metadata": {},
   "outputs": [
    {
     "data": {
      "text/html": [
       "<div>\n",
       "<style scoped>\n",
       "    .dataframe tbody tr th:only-of-type {\n",
       "        vertical-align: middle;\n",
       "    }\n",
       "\n",
       "    .dataframe tbody tr th {\n",
       "        vertical-align: top;\n",
       "    }\n",
       "\n",
       "    .dataframe thead th {\n",
       "        text-align: right;\n",
       "    }\n",
       "</style>\n",
       "<table border=\"1\" class=\"dataframe\">\n",
       "  <thead>\n",
       "    <tr style=\"text-align: right;\">\n",
       "      <th></th>\n",
       "      <th>Sample</th>\n",
       "      <th>MAPQ</th>\n",
       "    </tr>\n",
       "  </thead>\n",
       "  <tbody>\n",
       "    <tr>\n",
       "      <th>574817</th>\n",
       "      <td>Minus DMS</td>\n",
       "      <td>25</td>\n",
       "    </tr>\n",
       "    <tr>\n",
       "      <th>574818</th>\n",
       "      <td>Minus DMS</td>\n",
       "      <td>1</td>\n",
       "    </tr>\n",
       "    <tr>\n",
       "      <th>574819</th>\n",
       "      <td>Minus DMS</td>\n",
       "      <td>1</td>\n",
       "    </tr>\n",
       "    <tr>\n",
       "      <th>574820</th>\n",
       "      <td>Minus DMS</td>\n",
       "      <td>12</td>\n",
       "    </tr>\n",
       "    <tr>\n",
       "      <th>574821</th>\n",
       "      <td>Minus DMS</td>\n",
       "      <td>12</td>\n",
       "    </tr>\n",
       "  </tbody>\n",
       "</table>\n",
       "</div>"
      ],
      "text/plain": [
       "           Sample  MAPQ\n",
       "574817  Minus DMS    25\n",
       "574818  Minus DMS     1\n",
       "574819  Minus DMS     1\n",
       "574820  Minus DMS    12\n",
       "574821  Minus DMS    12"
      ]
     },
     "execution_count": 9,
     "metadata": {},
     "output_type": "execute_result"
    }
   ],
   "source": [
    "# Concatenate the two data frames\n",
    "data = pd.concat([plus_melted,minus_melted])\n",
    "data.tail()"
   ]
  },
  {
   "cell_type": "code",
   "execution_count": 10,
   "metadata": {},
   "outputs": [
    {
     "name": "stdout",
     "output_type": "stream",
     "text": [
      "Madrasin-20uM-4hr\n",
      "Lela_20uM_MadrasinReadsTest_August2018\n"
     ]
    }
   ],
   "source": [
    "sampleName=\"-\".join(plusSampleName.split('/')[1].split('-')[0:3])\n",
    "print sampleName\n",
    "folderName=plusSampleName.split('/')[0]\n",
    "print folderName"
   ]
  },
  {
   "cell_type": "code",
   "execution_count": 16,
   "metadata": {},
   "outputs": [
    {
     "data": {
      "text/plain": [
       "[1] \"../results/Lela_20uM_MadrasinReadsTest_August2018/GGplot2-FrequencyMAPQvalsPlusMinusDMS-Madrasin-20uM-4hr.png\"\n"
      ]
     },
     "metadata": {},
     "output_type": "display_data"
    },
    {
     "data": {
      "image/png": "[encoded data removed]"
     },
     "metadata": {},
     "output_type": "display_data"
    }
   ],
   "source": [
    "%%R -i data,sampleName,folderName\n",
    "p<- ggplot(data, aes(x=MAPQ, fill=Sample, color=Sample)) +\n",
    "  geom_histogram(alpha=0.25, binwidth=5,position=\"identity\") +\n",
    "    ggtitle(paste(\"Frequency of MAPQ values for\\n Plus and Minus DMS\",sampleName,sep=\" \")) +\n",
    "    xlab(\"\\nMAPQ values\") +\n",
    "    ylab(\"Frequency\\n\") +\n",
    "    theme(axis.title.x=element_text(face=\"bold\",size=12),axis.title.y=element_text(face=\"bold\",size=12),\n",
    "          axis.text.x = element_text(face=\"bold\",size=8),axis.text.y = element_text(face=\"bold\",size=8),\n",
    "         plot.title = element_text(face=\"bold\",size=15))\n",
    "filenameToSave = paste(\"../results/\",folderName,\"/GGplot2-FrequencyMAPQvalsPlusMinusDMS-\",sampleName,\".png\",sep=\"\")\n",
    "print(filenameToSave)\n",
    "ggsave(p,file=filenameToSave,width=8.1,height=5.6,dpi=300)\n",
    "p"
   ]
  },
  {
   "cell_type": "code",
   "execution_count": 12,
   "metadata": {},
   "outputs": [
    {
     "name": "stdout",
     "output_type": "stream",
     "text": [
      "5491028\n",
      "3485342\n",
      "574822\n",
      "491443\n"
     ]
    }
   ],
   "source": [
    "%%bash -s \"$plusSampleName\" \"$minusSampleName\"\n",
    "plusname=$1\n",
    "minusname=$2\n",
    "samtools view ../tmp/${plusname}.sam | wc -l\n",
    "samtools view -q 10 ../tmp/${plusname}.sam | wc -l\n",
    "samtools view ../tmp/${minusname}.sam | wc -l\n",
    "samtools view -q 10 ../tmp/${minusname}.sam | wc -l"
   ]
  },
  {
   "cell_type": "code",
   "execution_count": 18,
   "metadata": {},
   "outputs": [
    {
     "data": {
      "text/plain": [
       "0.634733969668339"
      ]
     },
     "execution_count": 18,
     "metadata": {},
     "output_type": "execute_result"
    }
   ],
   "source": [
    "3485342/5491028.0"
   ]
  },
  {
   "cell_type": "code",
   "execution_count": 19,
   "metadata": {},
   "outputs": [
    {
     "data": {
      "text/plain": [
       "0.8549481404678317"
      ]
     },
     "execution_count": 19,
     "metadata": {},
     "output_type": "execute_result"
    }
   ],
   "source": [
    "491443/574822.0"
   ]
  },
  {
   "cell_type": "code",
   "execution_count": null,
   "metadata": {},
   "outputs": [],
   "source": []
  }
 ],
 "metadata": {
  "kernelspec": {
   "display_name": "Python 2",
   "language": "python",
   "name": "python2"
  },
  "language_info": {
   "codemirror_mode": {
    "name": "ipython",
    "version": 2
   },
   "file_extension": ".py",
   "mimetype": "text/x-python",
   "name": "python",
   "nbconvert_exporter": "python",
   "pygments_lexer": "ipython2",
   "version": "2.7.6"
  }
 },
 "nbformat": 4,
 "nbformat_minor": 2
}
