{
 "cells": [
  {
   "cell_type": "markdown",
   "metadata": {},
   "source": [
    "# Extract transcript ID and gene name From fasta file\n",
    "\n",
    "This is a simple script to extract transcript IDs and gene names from transcript fasta file GRCh38_latest_rna.fna (obtained from https://www.ncbi.nlm.nih.gov/projects/genome/guide/human/index.shtml) to a tab-separated file"
   ]
  },
  {
   "cell_type": "code",
   "execution_count": 1,
   "metadata": {},
   "outputs": [],
   "source": [
    "from Bio import SeqIO"
   ]
  },
  {
   "cell_type": "code",
   "execution_count": 12,
   "metadata": {},
   "outputs": [],
   "source": [
    "allseq_descr = []\n",
    "\n",
    "for seq_record in SeqIO.parse(\"../data/GRCh38_latest_rna.fna\", \"fasta\"):\n",
    "    allseq_descr.append(seq_record.description)"
   ]
  },
  {
   "cell_type": "code",
   "execution_count": 13,
   "metadata": {},
   "outputs": [
    {
     "data": {
      "text/plain": [
       "159998"
      ]
     },
     "execution_count": 13,
     "metadata": {},
     "output_type": "execute_result"
    }
   ],
   "source": [
    "len(allseq_descr)"
   ]
  },
  {
   "cell_type": "code",
   "execution_count": 14,
   "metadata": {},
   "outputs": [
    {
     "data": {
      "text/plain": [
       "['NM_000014.5 Homo sapiens alpha-2-macroglobulin (A2M), transcript variant 1, mRNA',\n",
       " 'NM_000015.2 Homo sapiens N-acetyltransferase 2 (NAT2), mRNA']"
      ]
     },
     "execution_count": 14,
     "metadata": {},
     "output_type": "execute_result"
    }
   ],
   "source": [
    "allseq_descr[0:2]"
   ]
  },
  {
   "cell_type": "code",
   "execution_count": 28,
   "metadata": {},
   "outputs": [
    {
     "data": {
      "text/plain": [
       "['NM_000014.5 Homo sapiens alpha-2-macroglobulin ',\n",
       " 'A2M), transcript variant 1, mRNA']"
      ]
     },
     "execution_count": 28,
     "metadata": {},
     "output_type": "execute_result"
    }
   ],
   "source": [
    "p = allseq_descr[0]\n",
    "p.split('(')"
   ]
  },
  {
   "cell_type": "code",
   "execution_count": 23,
   "metadata": {},
   "outputs": [],
   "source": [
    "z=[j for j in allseq_descr if 'NM_000047.2' in j][0]"
   ]
  },
  {
   "cell_type": "code",
   "execution_count": 27,
   "metadata": {},
   "outputs": [
    {
     "data": {
      "text/plain": [
       "['NM_000047.2 Homo sapiens arylsulfatase E ',\n",
       " 'chondrodysplasia punctata 1) ',\n",
       " 'ARSE), transcript variant 2, mRNA']"
      ]
     },
     "execution_count": 27,
     "metadata": {},
     "output_type": "execute_result"
    }
   ],
   "source": [
    "z.split('(')"
   ]
  },
  {
   "cell_type": "code",
   "execution_count": 31,
   "metadata": {},
   "outputs": [],
   "source": [
    "# For each entry split by space to get ID and then split by ( and ) to get gene name\n",
    "geneNamesAndTranscriptIDs = []\n",
    "for i in allseq_descr:\n",
    "    transcriptID = i.split(' ')[0]\n",
    "    splitByFirst = i.split('(')\n",
    "    numClosingBrackets = [k for k in splitByFirst if ')' in k]\n",
    "    if len(numClosingBrackets)==1:\n",
    "        geneName = i.split('(')[1].split(')')[0]\n",
    "    else:\n",
    "        geneName = numClosingBrackets[len(numClosingBrackets)-1].split(')')[0]\n",
    "    geneNamesAndTranscriptIDs.append([transcriptID,geneName])"
   ]
  },
  {
   "cell_type": "code",
   "execution_count": 34,
   "metadata": {},
   "outputs": [],
   "source": [
    "with open('../data/GeneNameTranscriptID_NCBI_RefSeq_hg38.tsv','w') as fw:\n",
    "    for i in geneNamesAndTranscriptIDs:\n",
    "        fw.write('\\t'.join(i))\n",
    "        fw.write('\\n')"
   ]
  },
  {
   "cell_type": "code",
   "execution_count": null,
   "metadata": {},
   "outputs": [],
   "source": []
  }
 ],
 "metadata": {
  "kernelspec": {
   "display_name": "Python 2",
   "language": "python",
   "name": "python2"
  },
  "language_info": {
   "codemirror_mode": {
    "name": "ipython",
    "version": 2
   },
   "file_extension": ".py",
   "mimetype": "text/x-python",
   "name": "python",
   "nbconvert_exporter": "python",
   "pygments_lexer": "ipython2",
   "version": "2.7.6"
  }
 },
 "nbformat": 4,
 "nbformat_minor": 2
}
