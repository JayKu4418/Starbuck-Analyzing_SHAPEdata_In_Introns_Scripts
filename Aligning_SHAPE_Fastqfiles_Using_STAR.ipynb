{
 "cells": [
  {
   "cell_type": "markdown",
   "metadata": {},
   "source": [
    "## Aligning fastq files from SHAPE transcriptome wide experiments using STAR\n",
    "\n",
    "In this script, we want to align the fastq files from SHAPE transcriptome wide experiments to the genome and transcriptome using STAR\n",
    "\n",
    "The goal is to get reads that are overlapping intron-exon junctions and their corresponding exon-exon junctions"
   ]
  },
  {
   "cell_type": "code",
   "execution_count": null,
   "metadata": {},
   "outputs": [],
   "source": [
    "%%bash\n",
    "# Create a genome reference index using STAR\n",
    "#STAR --runThreadN 6 --runMode genomeGenerate --genomeDir ../data/hg38_STAR_index --genomeFastaFiles ../data/hg38.fa --sjdbGTFfile ../data/NCBI_RefSeq_Curated "
   ]
  },
  {
   "cell_type": "code",
   "execution_count": null,
   "metadata": {},
   "outputs": [],
   "source": [
    "%%bash\n",
    "# This is going to be run with same parameters as ShapeMapper2\n",
    "#STAR --runThreadN 12 --runMode alignReads --outMultimapperOrder Random --outSAMmultNmax 1 --outSAMattributes MD --genomeDir /home/shared/hg38/Long_RefSeqAnnotated_hg38_STARindex --readFilesIn ../data/trial/plus/19098PLUS-Yoruban_cell_lines_SHAPE_CGTACTA-GCGTAAG_Merged_R1.fastq ../data/trial/plus/19098PLUS-Yoruban_cell_lines_SHAPE_CGTACTA-GCGTAAG_Merged_R2.fastq --outTmpDir ../tmp/STARrun_sameParmsAsShapeMapper2/templog --outFileNamePrefix ../tmp/STARrun_sameParmsAsShapeMapper2/19098PLUS-Yoruban_cell_lines_SHAPE --alignEndsType Local --scoreGap -1000000 --scoreDelBase -1 --scoreInsBase -1 --outFilterMismatchNmax 999 --outFilterMismatchNoverLmax 999  "
   ]
  },
  {
   "cell_type": "code",
   "execution_count": null,
   "metadata": {},
   "outputs": [],
   "source": []
  },
  {
   "cell_type": "code",
   "execution_count": null,
   "metadata": {},
   "outputs": [],
   "source": [
    "%%bash\n",
    "# This script will process the sam file from the alignment \n",
    "./process_SAM_alignments.sh ../tmp/STARrun_sameParmsAsShapeMapper2/19098PLUS-Yoruban_cell_lines_SHAPEAligned.out"
   ]
  },
  {
   "cell_type": "code",
   "execution_count": null,
   "metadata": {},
   "outputs": [],
   "source": [
    "%%bash\n",
    "# Intersect reads with introns to find reads that are purely in introns\n",
    "bedtools intersect -a ../tmp/STARrun_sameParmsAsShapeMapper2/19098PLUS-Yoruban_cell_lines_SHAPEAligned.out.sorted.pairedReads.Read1.NeitherN.bed -b ../processed_data/"
   ]
  }
 ],
 "metadata": {
  "kernelspec": {
   "display_name": "Python 2",
   "language": "python",
   "name": "python2"
  },
  "language_info": {
   "codemirror_mode": {
    "name": "ipython",
    "version": 2
   },
   "file_extension": ".py",
   "mimetype": "text/x-python",
   "name": "python",
   "nbconvert_exporter": "python",
   "pygments_lexer": "ipython2",
   "version": "2.7.6"
  }
 },
 "nbformat": 4,
 "nbformat_minor": 2
}
