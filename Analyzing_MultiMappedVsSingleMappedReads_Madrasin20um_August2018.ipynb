{
 "cells": [
  {
   "cell_type": "markdown",
   "metadata": {},
   "source": [
    "# Look at the top expressed genes in Multi-mapped regions vs single mapped regions\n",
    "\n",
    "Extracted reads that are map to multiple locations vs single location\n"
   ]
  },
  {
   "cell_type": "code",
   "execution_count": 154,
   "metadata": {},
   "outputs": [],
   "source": [
    "import pandas as pd"
   ]
  },
  {
   "cell_type": "code",
   "execution_count": 155,
   "metadata": {},
   "outputs": [],
   "source": [
    "treatment=\"Lela_20uM_MadrasinReadsTest_August2018/Untreated-Plus_S8\""
   ]
  },
  {
   "cell_type": "code",
   "execution_count": 156,
   "metadata": {},
   "outputs": [
    {
     "name": "stdout",
     "output_type": "stream",
     "text": [
      "(38310, 3)\n"
     ]
    },
    {
     "data": {
      "text/html": [
       "<div>\n",
       "<style scoped>\n",
       "    .dataframe tbody tr th:only-of-type {\n",
       "        vertical-align: middle;\n",
       "    }\n",
       "\n",
       "    .dataframe tbody tr th {\n",
       "        vertical-align: top;\n",
       "    }\n",
       "\n",
       "    .dataframe thead th {\n",
       "        text-align: right;\n",
       "    }\n",
       "</style>\n",
       "<table border=\"1\" class=\"dataframe\">\n",
       "  <thead>\n",
       "    <tr style=\"text-align: right;\">\n",
       "      <th></th>\n",
       "      <th>GeneName</th>\n",
       "      <th>Length</th>\n",
       "      <th>Counts</th>\n",
       "    </tr>\n",
       "  </thead>\n",
       "  <tbody>\n",
       "    <tr>\n",
       "      <th>0</th>\n",
       "      <td>DDX11L1</td>\n",
       "      <td>1652</td>\n",
       "      <td>0</td>\n",
       "    </tr>\n",
       "    <tr>\n",
       "      <th>1</th>\n",
       "      <td>WASH7P</td>\n",
       "      <td>1769</td>\n",
       "      <td>0</td>\n",
       "    </tr>\n",
       "    <tr>\n",
       "      <th>2</th>\n",
       "      <td>MIR6859-1</td>\n",
       "      <td>68</td>\n",
       "      <td>0</td>\n",
       "    </tr>\n",
       "    <tr>\n",
       "      <th>3</th>\n",
       "      <td>MIR1302-2HG</td>\n",
       "      <td>538</td>\n",
       "      <td>0</td>\n",
       "    </tr>\n",
       "    <tr>\n",
       "      <th>4</th>\n",
       "      <td>MIR1302-2</td>\n",
       "      <td>138</td>\n",
       "      <td>0</td>\n",
       "    </tr>\n",
       "  </tbody>\n",
       "</table>\n",
       "</div>"
      ],
      "text/plain": [
       "      GeneName  Length  Counts\n",
       "0      DDX11L1    1652       0\n",
       "1       WASH7P    1769       0\n",
       "2    MIR6859-1      68       0\n",
       "3  MIR1302-2HG     538       0\n",
       "4    MIR1302-2     138       0"
      ]
     },
     "execution_count": 156,
     "metadata": {},
     "output_type": "execute_result"
    }
   ],
   "source": [
    "# Let's read in count data for single mapped reads\n",
    "with open(\"../tmp/\"+treatment+\"_Transcriptome_featureCounts_SingleMappedReads_JustCounts.txt\") as f:\n",
    "    lines = f.readlines()\n",
    "with open(\"../tmp/\"+treatment+\"_Transcriptome_featureCounts_SingleMappedReads_JustCounts_DropHeader.txt\",'w') as fw:\n",
    "    fw.writelines(lines[1:])\n",
    "singleMap = pd.read_csv(\"../tmp/\"+treatment+\"_Transcriptome_featureCounts_SingleMappedReads_JustCounts_DropHeader.txt\",header=0,sep=\"\\t\")\n",
    "print singleMap.shape\n",
    "singleMap.columns = [\"GeneName\",\"Length\",\"Counts\"]\n",
    "singleMap.head()"
   ]
  },
  {
   "cell_type": "code",
   "execution_count": 157,
   "metadata": {},
   "outputs": [
    {
     "data": {
      "text/html": [
       "<div>\n",
       "<style scoped>\n",
       "    .dataframe tbody tr th:only-of-type {\n",
       "        vertical-align: middle;\n",
       "    }\n",
       "\n",
       "    .dataframe tbody tr th {\n",
       "        vertical-align: top;\n",
       "    }\n",
       "\n",
       "    .dataframe thead th {\n",
       "        text-align: right;\n",
       "    }\n",
       "</style>\n",
       "<table border=\"1\" class=\"dataframe\">\n",
       "  <thead>\n",
       "    <tr style=\"text-align: right;\">\n",
       "      <th></th>\n",
       "      <th>GeneName</th>\n",
       "      <th>Length</th>\n",
       "      <th>Counts</th>\n",
       "    </tr>\n",
       "  </thead>\n",
       "  <tbody>\n",
       "    <tr>\n",
       "      <th>37010</th>\n",
       "      <td>RMRP</td>\n",
       "      <td>268</td>\n",
       "      <td>5210</td>\n",
       "    </tr>\n",
       "    <tr>\n",
       "      <th>6449</th>\n",
       "      <td>NEAT1</td>\n",
       "      <td>22743</td>\n",
       "      <td>2234</td>\n",
       "    </tr>\n",
       "    <tr>\n",
       "      <th>689</th>\n",
       "      <td>SNORA73B</td>\n",
       "      <td>205</td>\n",
       "      <td>1226</td>\n",
       "    </tr>\n",
       "    <tr>\n",
       "      <th>9646</th>\n",
       "      <td>LCP1</td>\n",
       "      <td>3889</td>\n",
       "      <td>814</td>\n",
       "    </tr>\n",
       "    <tr>\n",
       "      <th>31261</th>\n",
       "      <td>IRF4</td>\n",
       "      <td>5461</td>\n",
       "      <td>727</td>\n",
       "    </tr>\n",
       "  </tbody>\n",
       "</table>\n",
       "</div>"
      ],
      "text/plain": [
       "       GeneName  Length  Counts\n",
       "37010      RMRP     268    5210\n",
       "6449      NEAT1   22743    2234\n",
       "689    SNORA73B     205    1226\n",
       "9646       LCP1    3889     814\n",
       "31261      IRF4    5461     727"
      ]
     },
     "execution_count": 157,
     "metadata": {},
     "output_type": "execute_result"
    }
   ],
   "source": [
    "# Sort the single mapped reads\n",
    "singleMap_sorted = singleMap.sort_values(by=[\"Counts\"],ascending=False)\n",
    "singleMap_sorted.head()"
   ]
  },
  {
   "cell_type": "code",
   "execution_count": 158,
   "metadata": {},
   "outputs": [
    {
     "name": "stdout",
     "output_type": "stream",
     "text": [
      "RMRP\n",
      "NEAT1\n",
      "SNORA73B\n",
      "LCP1\n",
      "IRF4\n",
      "CD74\n",
      "EEF2\n",
      "SNORD17\n",
      "RNF213\n",
      "SON\n"
     ]
    }
   ],
   "source": [
    "# Get the top 50 genes with most counts\n",
    "singleMap_top10 = list(singleMap_sorted.iloc[range(10),0].values)\n",
    "for i in singleMap_top10:\n",
    "    print(i)"
   ]
  },
  {
   "cell_type": "code",
   "execution_count": 159,
   "metadata": {},
   "outputs": [
    {
     "name": "stdout",
     "output_type": "stream",
     "text": [
      "(38310, 3)\n"
     ]
    },
    {
     "data": {
      "text/html": [
       "<div>\n",
       "<style scoped>\n",
       "    .dataframe tbody tr th:only-of-type {\n",
       "        vertical-align: middle;\n",
       "    }\n",
       "\n",
       "    .dataframe tbody tr th {\n",
       "        vertical-align: top;\n",
       "    }\n",
       "\n",
       "    .dataframe thead th {\n",
       "        text-align: right;\n",
       "    }\n",
       "</style>\n",
       "<table border=\"1\" class=\"dataframe\">\n",
       "  <thead>\n",
       "    <tr style=\"text-align: right;\">\n",
       "      <th></th>\n",
       "      <th>GeneName</th>\n",
       "      <th>Length</th>\n",
       "      <th>Counts</th>\n",
       "    </tr>\n",
       "  </thead>\n",
       "  <tbody>\n",
       "    <tr>\n",
       "      <th>0</th>\n",
       "      <td>DDX11L1</td>\n",
       "      <td>1652</td>\n",
       "      <td>1</td>\n",
       "    </tr>\n",
       "    <tr>\n",
       "      <th>1</th>\n",
       "      <td>WASH7P</td>\n",
       "      <td>1769</td>\n",
       "      <td>12</td>\n",
       "    </tr>\n",
       "    <tr>\n",
       "      <th>2</th>\n",
       "      <td>MIR6859-1</td>\n",
       "      <td>68</td>\n",
       "      <td>0</td>\n",
       "    </tr>\n",
       "    <tr>\n",
       "      <th>3</th>\n",
       "      <td>MIR1302-2HG</td>\n",
       "      <td>538</td>\n",
       "      <td>0</td>\n",
       "    </tr>\n",
       "    <tr>\n",
       "      <th>4</th>\n",
       "      <td>MIR1302-2</td>\n",
       "      <td>138</td>\n",
       "      <td>0</td>\n",
       "    </tr>\n",
       "  </tbody>\n",
       "</table>\n",
       "</div>"
      ],
      "text/plain": [
       "      GeneName  Length  Counts\n",
       "0      DDX11L1    1652       1\n",
       "1       WASH7P    1769      12\n",
       "2    MIR6859-1      68       0\n",
       "3  MIR1302-2HG     538       0\n",
       "4    MIR1302-2     138       0"
      ]
     },
     "execution_count": 159,
     "metadata": {},
     "output_type": "execute_result"
    }
   ],
   "source": [
    "# Let's read in count data for multi mapped reads\n",
    "with open(\"../tmp/\"+treatment+\"_Transcriptome_featureCounts_MultiMappedReads_JustCounts.txt\") as f:\n",
    "    lines = f.readlines()\n",
    "with open(\"../tmp/\"+treatment+\"_Transcriptome_featureCounts_MultiMappedReads_JustCounts_DropHeader.txt\",'w') as fw:\n",
    "    fw.writelines(lines[1:])\n",
    "multiMap = pd.read_csv(\"../tmp/\"+treatment+\"_Transcriptome_featureCounts_MultiMappedReads_JustCounts_DropHeader.txt\",header=0,sep=\"\\t\")\n",
    "print multiMap.shape\n",
    "multiMap.columns = [\"GeneName\",\"Length\",\"Counts\"]\n",
    "multiMap.head()"
   ]
  },
  {
   "cell_type": "code",
   "execution_count": 160,
   "metadata": {},
   "outputs": [
    {
     "data": {
      "text/html": [
       "<div>\n",
       "<style scoped>\n",
       "    .dataframe tbody tr th:only-of-type {\n",
       "        vertical-align: middle;\n",
       "    }\n",
       "\n",
       "    .dataframe tbody tr th {\n",
       "        vertical-align: top;\n",
       "    }\n",
       "\n",
       "    .dataframe thead th {\n",
       "        text-align: right;\n",
       "    }\n",
       "</style>\n",
       "<table border=\"1\" class=\"dataframe\">\n",
       "  <thead>\n",
       "    <tr style=\"text-align: right;\">\n",
       "      <th></th>\n",
       "      <th>GeneName</th>\n",
       "      <th>Length</th>\n",
       "      <th>Counts</th>\n",
       "    </tr>\n",
       "  </thead>\n",
       "  <tbody>\n",
       "    <tr>\n",
       "      <th>32284</th>\n",
       "      <td>RN7SK</td>\n",
       "      <td>332</td>\n",
       "      <td>11354</td>\n",
       "    </tr>\n",
       "    <tr>\n",
       "      <th>10639</th>\n",
       "      <td>RN7SL3</td>\n",
       "      <td>299</td>\n",
       "      <td>9566</td>\n",
       "    </tr>\n",
       "    <tr>\n",
       "      <th>35939</th>\n",
       "      <td>SLCO5A1</td>\n",
       "      <td>11318</td>\n",
       "      <td>6134</td>\n",
       "    </tr>\n",
       "    <tr>\n",
       "      <th>37010</th>\n",
       "      <td>RMRP</td>\n",
       "      <td>268</td>\n",
       "      <td>5895</td>\n",
       "    </tr>\n",
       "    <tr>\n",
       "      <th>33393</th>\n",
       "      <td>ACTB</td>\n",
       "      <td>1922</td>\n",
       "      <td>3383</td>\n",
       "    </tr>\n",
       "  </tbody>\n",
       "</table>\n",
       "</div>"
      ],
      "text/plain": [
       "      GeneName  Length  Counts\n",
       "32284    RN7SK     332   11354\n",
       "10639   RN7SL3     299    9566\n",
       "35939  SLCO5A1   11318    6134\n",
       "37010     RMRP     268    5895\n",
       "33393     ACTB    1922    3383"
      ]
     },
     "execution_count": 160,
     "metadata": {},
     "output_type": "execute_result"
    }
   ],
   "source": [
    "# Sort the multi mapped reads\n",
    "multiMap_sorted = multiMap.sort_values(by=[\"Counts\"],ascending=False)\n",
    "multiMap_sorted.head()"
   ]
  },
  {
   "cell_type": "code",
   "execution_count": 161,
   "metadata": {},
   "outputs": [
    {
     "name": "stdout",
     "output_type": "stream",
     "text": [
      "RN7SK\n",
      "RN7SL3\n",
      "SLCO5A1\n",
      "RMRP\n",
      "ACTB\n",
      "SNORA73B\n",
      "RNA45SN2\n",
      "LOC107987206\n",
      "RNA45SN3\n",
      "RNA45SN1\n"
     ]
    }
   ],
   "source": [
    "# Get the top 10 genes with most counts\n",
    "multiMap_top10 = list(multiMap_sorted.iloc[range(10),0].values)\n",
    "for i in multiMap_top10:\n",
    "    print(i)"
   ]
  },
  {
   "cell_type": "raw",
   "metadata": {},
   "source": [
    "# Get http://geneontology.org/ontology/go-basic.obo# Get ht \n",
    "from goatools.base import download_go_basic_obo\n",
    "obo_fname = download_go_basic_obo()"
   ]
  },
  {
   "cell_type": "raw",
   "metadata": {},
   "source": [
    "# Get ftp://ftp.ncbi.nlm.nih.gov/gene/DATA/gene2go.gz\n",
    "from goatools.base import download_ncbi_associations\n",
    "gene2go = download_ncbi_associations()"
   ]
  },
  {
   "cell_type": "raw",
   "metadata": {},
   "source": [
    "from goatools.associations import read_ncbi_gene2go\n",
    "\n",
    "go2geneids_human = read_ncbi_gene2go(\"gene2go\", taxids=[9606], go2geneids=True)\n",
    "print(\"{N} GO terms associated with human NCBI Entrez GeneIDs\".format(N=len(go2geneids_human)))"
   ]
  },
  {
   "cell_type": "raw",
   "metadata": {},
   "source": [
    "type(go2geneids_human)"
   ]
  },
  {
   "cell_type": "raw",
   "metadata": {},
   "source": [
    "GeneID2nt.get(100507650, None)"
   ]
  },
  {
   "cell_type": "raw",
   "metadata": {},
   "source": [
    "from goatools.test_data.genes_NCBI_9606_ProteinCoding import GeneID2nt"
   ]
  },
  {
   "cell_type": "raw",
   "metadata": {},
   "source": [
    "type(GeneID2nt)"
   ]
  },
  {
   "cell_type": "raw",
   "metadata": {},
   "source": [
    "for value in GeneID2nt.values():\n",
    "    if value.Symbol in singleMap_top50:\n",
    "        print(value.Symbol+\"\\t\"+value.description)"
   ]
  },
  {
   "cell_type": "raw",
   "metadata": {},
   "source": [
    "for value in GeneID2nt.values():\n",
    "    if value.Symbol in multiMap_top50:\n",
    "        print(value.Symbol+\"\\t\"+value.description)"
   ]
  },
  {
   "cell_type": "code",
   "execution_count": null,
   "metadata": {},
   "outputs": [],
   "source": []
  }
 ],
 "metadata": {
  "kernelspec": {
   "display_name": "Python 2",
   "language": "python",
   "name": "python2"
  },
  "language_info": {
   "codemirror_mode": {
    "name": "ipython",
    "version": 2
   },
   "file_extension": ".py",
   "mimetype": "text/x-python",
   "name": "python",
   "nbconvert_exporter": "python",
   "pygments_lexer": "ipython2",
   "version": "2.7.6"
  }
 },
 "nbformat": 4,
 "nbformat_minor": 2
}
