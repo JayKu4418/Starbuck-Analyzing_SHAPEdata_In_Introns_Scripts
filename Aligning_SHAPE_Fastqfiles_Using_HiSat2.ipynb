{
 "cells": [
  {
   "cell_type": "markdown",
   "metadata": {},
   "source": [
    "## Aligning fastq files from SHAPE transcriptome wide experiments using HiSat2\n",
    "\n",
    "In this script, we want to align the fastq files from SHAPE transcriptome wide experiments to the genome and transcriptome using HiSat2 \n",
    "\n",
    "The goal is to get reads that are overlapping intron-exon junctions and their corresponding exon-exon junctions"
   ]
  },
  {
   "cell_type": "code",
   "execution_count": null,
   "metadata": {},
   "outputs": [],
   "source": [
    "%%script bash\n",
    "# Create HiSat2 index for hg38\n",
    "#hisat2-build ../data/hg38.fa ../data/hg38_hisat2_index/hg38"
   ]
  },
  {
   "cell_type": "code",
   "execution_count": null,
   "metadata": {},
   "outputs": [],
   "source": [
    "%%script bash\n",
    "hisat2 -p 12 --score-min G,20,8 --mp 6,2 --rdg 5,1 --rfg 5,1 -x ../data/hg38_hisat2_index/hg38 -1 ../data/trial/plus/19098PLUS-Yoruban_cell_lines_SHAPE_CGTACTA-GCGTAAG_Merged_R1.fastq -2 ../data/trial/plus/19098PLUS-Yoruban_cell_lines_SHAPE_CGTACTA-GCGTAAG_Merged_R2.fastq -S ../tmp/HiSat2run_sameParmsAsBowtie2/HiSat2_19098PLUS-Yoruban_cell_lines_SHAPE.sam"
   ]
  },
  {
   "cell_type": "code",
   "execution_count": null,
   "metadata": {},
   "outputs": [],
   "source": [
    "%%script bash\n",
    "echo \"Convert sam file to bam file\"\n",
    "samtools view -b -o ../tmp/HiSat2run_sameParmsAsBowtie2/HiSat2_19098PLUS-Yoruban_cell_lines_SHAPE.bam ../tmp/HiSat2run_sameParmsAsBowtie2/HiSat2_19098PLUS-Yoruban_cell_lines_SHAPE.sam\n",
    "echo \"Sort bam file\"\n",
    "samtools sort -@ 4 -0 ../tmp/HiSat2run_sameParmsAsBowtie2/HiSat2_19098PLUS-Yoruban_cell_lines_SHAPE_sorted.bam ../tmp/HiSat2run_sameParmsAsBowtie2/HiSat2_19098PLUS-Yoruban_cell_lines_SHAPE.bam\n",
    "echo \"Index bam file\"\n",
    "samtools index ../tmp/HiSat2run_sameParmsAsBowtie2/HiSat2_19098PLUS-Yoruban_cell_lines_SHAPE_sorted.bam"
   ]
  },
  {
   "cell_type": "code",
   "execution_count": 1,
   "metadata": {},
   "outputs": [],
   "source": [
    "%%bash\n",
    "# Cut out Bowtie2 SAM flag\n",
    "samtools view ../processed_data/alignedToWholeGenome/19098PLUS-Yoruban_cell_lines_SHAPE_CGTACTA-GCGTAAG_Merged.sam | cut -f2 > ../processed_data/alignedToWholeGenome/19098PLUS-Yoruban_cell_lines_SHAPE_CGTACTA-GCGTAAG_Merged.SAMflags.txt\n"
   ]
  },
  {
   "cell_type": "code",
   "execution_count": 3,
   "metadata": {},
   "outputs": [],
   "source": [
    "import pandas as pd"
   ]
  },
  {
   "cell_type": "code",
   "execution_count": 4,
   "metadata": {},
   "outputs": [
    {
     "data": {
      "text/plain": [
       "77     33176345\n",
       "141    33176345\n",
       "99     25597341\n",
       "147    25597341\n",
       "83     25516950\n",
       "163    25516950\n",
       "133     3324041\n",
       "69      2752358\n",
       "161     2274499\n",
       "81      2274499\n",
       "145     2259194\n",
       "97      2259194\n",
       "89      1710744\n",
       "73      1613297\n",
       "153     1417514\n",
       "137     1334844\n",
       "177      507778\n",
       "113      507778\n",
       "129      472645\n",
       "65       472645\n",
       "dtype: int64"
      ]
     },
     "execution_count": 4,
     "metadata": {},
     "output_type": "execute_result"
    }
   ],
   "source": [
    "# Read in flags file and look at value frequency\n",
    "flags = pd.read_csv(\"../processed_data/alignedToWholeGenome/19098PLUS-Yoruban_cell_lines_SHAPE_CGTACTA-GCGTAAG_Merged.SAMflags.txt\",header=None)\n",
    "freq_flags = flags[0].value_counts()\n",
    "freq_flags"
   ]
  },
  {
   "cell_type": "code",
   "execution_count": 5,
   "metadata": {},
   "outputs": [
    {
     "data": {
      "text/plain": [
       "(191762302, 1)"
      ]
     },
     "execution_count": 5,
     "metadata": {},
     "output_type": "execute_result"
    }
   ],
   "source": [
    "flags.shape"
   ]
  },
  {
   "cell_type": "code",
   "execution_count": null,
   "metadata": {},
   "outputs": [],
   "source": []
  }
 ],
 "metadata": {
  "kernelspec": {
   "display_name": "Python 2",
   "language": "python",
   "name": "python2"
  },
  "language_info": {
   "codemirror_mode": {
    "name": "ipython",
    "version": 2
   },
   "file_extension": ".py",
   "mimetype": "text/x-python",
   "name": "python",
   "nbconvert_exporter": "python",
   "pygments_lexer": "ipython2",
   "version": "2.7.6"
  }
 },
 "nbformat": 4,
 "nbformat_minor": 2
}
