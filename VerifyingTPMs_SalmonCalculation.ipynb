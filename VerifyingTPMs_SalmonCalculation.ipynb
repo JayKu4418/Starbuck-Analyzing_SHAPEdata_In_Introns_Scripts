{
 "cells": [
  {
   "cell_type": "markdown",
   "metadata": {},
   "source": [
    "# Purpose\n",
    "\n",
    "We want to compare Salmon's quantification of full fastq files and fastq files that had 50% of the reads. \n",
    "This is make sure the TPM calculation is real. "
   ]
  },
  {
   "cell_type": "code",
   "execution_count": 1,
   "metadata": {},
   "outputs": [],
   "source": [
    "# Import packages\n",
    "import pandas as pd\n",
    "import matplotlib.pyplot as plt\n",
    "import seaborn as sns\n",
    "import os\n",
    "import numpy as np"
   ]
  },
  {
   "cell_type": "code",
   "execution_count": 2,
   "metadata": {},
   "outputs": [],
   "source": [
    "# Set variable to find highly expressed genes or transcripts\n",
    "feature=\"Gene\""
   ]
  },
  {
   "cell_type": "code",
   "execution_count": 3,
   "metadata": {},
   "outputs": [],
   "source": [
    "if feature==\"Gene\":\n",
    "    fileToRead=\"quant.genes.sf\"\n",
    "else:\n",
    "    fileToRead=\"quant.sf\""
   ]
  },
  {
   "cell_type": "code",
   "execution_count": 7,
   "metadata": {},
   "outputs": [],
   "source": [
    "# Create a data frame with unique top features as column\n",
    "feature_readCounts = pd.DataFrame()"
   ]
  },
  {
   "cell_type": "code",
   "execution_count": 8,
   "metadata": {},
   "outputs": [
    {
     "name": "stdout",
     "output_type": "stream",
     "text": [
      "Mad-30mm-8hr-minus_S12_transcripts_quant_genenames\n",
      "Mad-20mm-8hr-DMS_S8_transcripts_quant_genenames\n",
      "Mad-10mm-8hr-DMS_S7_transcripts_quant_genenames\n",
      "Mad-20mm-4hr-DMS_S2_transcripts_quant_genenames\n",
      "Mad-30mm-4hr-minus_S6_transcripts_quant_genenames\n",
      "Mad-10mm-4hr-DMS_S1_transcripts_quant_genenames\n",
      "Mad-30mm-8hr-DMS_S9_transcripts_quant_genenames\n",
      "Mad-20mm-8hr-minus_S11_transcripts_quant_genenames\n",
      "Mad-20mm-4hr-minus_S5_transcripts_quant_genenames\n",
      "Mad-10mm-4hr-minus_S4_transcripts_quant_genenames\n",
      "Mad-10mm-8hr-minus_S10_transcripts_quant_genenames\n",
      "Mad-30mm-4hr-DMS_S3_transcripts_quant_genenames\n"
     ]
    }
   ],
   "source": [
    "# This is for full fastq file\n",
    "# Read in the Count files \n",
    "for filename in os.listdir(\"../tmp/Lela_MadrasinReadsTest_June2018/\"):\n",
    "    current_columns = list(feature_readCounts.columns.values)\n",
    "    if \"transcripts_quant_genenames\" in filename and \"_Just50percentReads\" not in filename:\n",
    "        print filename\n",
    "        current_columns.append(filename.split(\"_transcripts\")[0])\n",
    "        data_to_read = pd.read_csv(\"../tmp/Lela_MadrasinReadsTest_June2018/\"+filename+\"/\"+fileToRead,header=0,sep=\"\\t\")\n",
    "        #data_GetFeatures = data_to_read[data_to_read[\"Name\"].isin(unique_top_features)]\n",
    "        features=list(data_to_read[\"Name\"].values)\n",
    "        data_sortedBy_FeatureName = data_to_read.sort_values(by=\"Name\")\n",
    "        data_sortedBy_FeatureName = data_sortedBy_FeatureName.reset_index(drop=True)\n",
    "        feature_readCounts = pd.concat([feature_readCounts,data_sortedBy_FeatureName[\"TPM\"]],axis=1,ignore_index=True)\n",
    "        feature_readCounts.columns = current_columns"
   ]
  },
  {
   "cell_type": "code",
   "execution_count": 9,
   "metadata": {},
   "outputs": [
    {
     "data": {
      "text/html": [
       "<div>\n",
       "<style scoped>\n",
       "    .dataframe tbody tr th:only-of-type {\n",
       "        vertical-align: middle;\n",
       "    }\n",
       "\n",
       "    .dataframe tbody tr th {\n",
       "        vertical-align: top;\n",
       "    }\n",
       "\n",
       "    .dataframe thead th {\n",
       "        text-align: right;\n",
       "    }\n",
       "</style>\n",
       "<table border=\"1\" class=\"dataframe\">\n",
       "  <thead>\n",
       "    <tr style=\"text-align: right;\">\n",
       "      <th></th>\n",
       "      <th>Mad-30mm-8hr-minus_S12</th>\n",
       "      <th>Mad-20mm-8hr-DMS_S8</th>\n",
       "      <th>Mad-10mm-8hr-DMS_S7</th>\n",
       "      <th>Mad-20mm-4hr-DMS_S2</th>\n",
       "      <th>Mad-30mm-4hr-minus_S6</th>\n",
       "      <th>Mad-10mm-4hr-DMS_S1</th>\n",
       "      <th>Mad-30mm-8hr-DMS_S9</th>\n",
       "      <th>Mad-20mm-8hr-minus_S11</th>\n",
       "      <th>Mad-20mm-4hr-minus_S5</th>\n",
       "      <th>Mad-10mm-4hr-minus_S4</th>\n",
       "      <th>Mad-10mm-8hr-minus_S10</th>\n",
       "      <th>Mad-30mm-4hr-DMS_S3</th>\n",
       "    </tr>\n",
       "  </thead>\n",
       "  <tbody>\n",
       "    <tr>\n",
       "      <th>0</th>\n",
       "      <td>1.13562</td>\n",
       "      <td>2.631350</td>\n",
       "      <td>4.902720</td>\n",
       "      <td>3.50921</td>\n",
       "      <td>4.907930</td>\n",
       "      <td>6.314380</td>\n",
       "      <td>1.72576</td>\n",
       "      <td>3.425100</td>\n",
       "      <td>3.33652</td>\n",
       "      <td>5.785470</td>\n",
       "      <td>2.407860</td>\n",
       "      <td>3.533560</td>\n",
       "    </tr>\n",
       "    <tr>\n",
       "      <th>1</th>\n",
       "      <td>4.70636</td>\n",
       "      <td>2.484750</td>\n",
       "      <td>3.268500</td>\n",
       "      <td>3.11107</td>\n",
       "      <td>3.867360</td>\n",
       "      <td>2.459000</td>\n",
       "      <td>2.38227</td>\n",
       "      <td>2.615480</td>\n",
       "      <td>1.30564</td>\n",
       "      <td>4.260010</td>\n",
       "      <td>5.825430</td>\n",
       "      <td>0.000000</td>\n",
       "    </tr>\n",
       "    <tr>\n",
       "      <th>2</th>\n",
       "      <td>0.00000</td>\n",
       "      <td>0.116292</td>\n",
       "      <td>0.160218</td>\n",
       "      <td>0.00000</td>\n",
       "      <td>0.486126</td>\n",
       "      <td>0.226048</td>\n",
       "      <td>0.05566</td>\n",
       "      <td>0.763637</td>\n",
       "      <td>0.00000</td>\n",
       "      <td>0.243631</td>\n",
       "      <td>0.101949</td>\n",
       "      <td>0.126096</td>\n",
       "    </tr>\n",
       "    <tr>\n",
       "      <th>3</th>\n",
       "      <td>0.00000</td>\n",
       "      <td>0.000000</td>\n",
       "      <td>0.000000</td>\n",
       "      <td>0.00000</td>\n",
       "      <td>0.000000</td>\n",
       "      <td>0.000000</td>\n",
       "      <td>0.00000</td>\n",
       "      <td>0.000000</td>\n",
       "      <td>0.00000</td>\n",
       "      <td>0.245102</td>\n",
       "      <td>0.000000</td>\n",
       "      <td>0.000000</td>\n",
       "    </tr>\n",
       "    <tr>\n",
       "      <th>4</th>\n",
       "      <td>0.00000</td>\n",
       "      <td>0.000000</td>\n",
       "      <td>0.000000</td>\n",
       "      <td>0.00000</td>\n",
       "      <td>0.000000</td>\n",
       "      <td>0.000000</td>\n",
       "      <td>0.00000</td>\n",
       "      <td>0.000000</td>\n",
       "      <td>0.00000</td>\n",
       "      <td>0.000000</td>\n",
       "      <td>0.000000</td>\n",
       "      <td>0.000000</td>\n",
       "    </tr>\n",
       "  </tbody>\n",
       "</table>\n",
       "</div>"
      ],
      "text/plain": [
       "   Mad-30mm-8hr-minus_S12  Mad-20mm-8hr-DMS_S8  Mad-10mm-8hr-DMS_S7  \\\n",
       "0                 1.13562             2.631350             4.902720   \n",
       "1                 4.70636             2.484750             3.268500   \n",
       "2                 0.00000             0.116292             0.160218   \n",
       "3                 0.00000             0.000000             0.000000   \n",
       "4                 0.00000             0.000000             0.000000   \n",
       "\n",
       "   Mad-20mm-4hr-DMS_S2  Mad-30mm-4hr-minus_S6  Mad-10mm-4hr-DMS_S1  \\\n",
       "0              3.50921               4.907930             6.314380   \n",
       "1              3.11107               3.867360             2.459000   \n",
       "2              0.00000               0.486126             0.226048   \n",
       "3              0.00000               0.000000             0.000000   \n",
       "4              0.00000               0.000000             0.000000   \n",
       "\n",
       "   Mad-30mm-8hr-DMS_S9  Mad-20mm-8hr-minus_S11  Mad-20mm-4hr-minus_S5  \\\n",
       "0              1.72576                3.425100                3.33652   \n",
       "1              2.38227                2.615480                1.30564   \n",
       "2              0.05566                0.763637                0.00000   \n",
       "3              0.00000                0.000000                0.00000   \n",
       "4              0.00000                0.000000                0.00000   \n",
       "\n",
       "   Mad-10mm-4hr-minus_S4  Mad-10mm-8hr-minus_S10  Mad-30mm-4hr-DMS_S3  \n",
       "0               5.785470                2.407860             3.533560  \n",
       "1               4.260010                5.825430             0.000000  \n",
       "2               0.243631                0.101949             0.126096  \n",
       "3               0.245102                0.000000             0.000000  \n",
       "4               0.000000                0.000000             0.000000  "
      ]
     },
     "execution_count": 9,
     "metadata": {},
     "output_type": "execute_result"
    }
   ],
   "source": [
    "feature_readCounts.head()"
   ]
  },
  {
   "cell_type": "code",
   "execution_count": 10,
   "metadata": {},
   "outputs": [
    {
     "data": {
      "text/html": [
       "<div>\n",
       "<style scoped>\n",
       "    .dataframe tbody tr th:only-of-type {\n",
       "        vertical-align: middle;\n",
       "    }\n",
       "\n",
       "    .dataframe tbody tr th {\n",
       "        vertical-align: top;\n",
       "    }\n",
       "\n",
       "    .dataframe thead th {\n",
       "        text-align: right;\n",
       "    }\n",
       "</style>\n",
       "<table border=\"1\" class=\"dataframe\">\n",
       "  <thead>\n",
       "    <tr style=\"text-align: right;\">\n",
       "      <th></th>\n",
       "      <th>Mad-30mm-8hr-minus_S12</th>\n",
       "      <th>Mad-20mm-8hr-DMS_S8</th>\n",
       "      <th>Mad-10mm-8hr-DMS_S7</th>\n",
       "      <th>Mad-20mm-4hr-DMS_S2</th>\n",
       "      <th>Mad-30mm-4hr-minus_S6</th>\n",
       "      <th>Mad-10mm-4hr-DMS_S1</th>\n",
       "      <th>Mad-30mm-8hr-DMS_S9</th>\n",
       "      <th>Mad-20mm-8hr-minus_S11</th>\n",
       "      <th>Mad-20mm-4hr-minus_S5</th>\n",
       "      <th>Mad-10mm-4hr-minus_S4</th>\n",
       "      <th>Mad-10mm-8hr-minus_S10</th>\n",
       "      <th>Mad-30mm-4hr-DMS_S3</th>\n",
       "    </tr>\n",
       "  </thead>\n",
       "  <tbody>\n",
       "    <tr>\n",
       "      <th>A1BG</th>\n",
       "      <td>1.13562</td>\n",
       "      <td>2.631350</td>\n",
       "      <td>4.902720</td>\n",
       "      <td>3.50921</td>\n",
       "      <td>4.907930</td>\n",
       "      <td>6.314380</td>\n",
       "      <td>1.72576</td>\n",
       "      <td>3.425100</td>\n",
       "      <td>3.33652</td>\n",
       "      <td>5.785470</td>\n",
       "      <td>2.407860</td>\n",
       "      <td>3.533560</td>\n",
       "    </tr>\n",
       "    <tr>\n",
       "      <th>A1BG-AS1</th>\n",
       "      <td>4.70636</td>\n",
       "      <td>2.484750</td>\n",
       "      <td>3.268500</td>\n",
       "      <td>3.11107</td>\n",
       "      <td>3.867360</td>\n",
       "      <td>2.459000</td>\n",
       "      <td>2.38227</td>\n",
       "      <td>2.615480</td>\n",
       "      <td>1.30564</td>\n",
       "      <td>4.260010</td>\n",
       "      <td>5.825430</td>\n",
       "      <td>0.000000</td>\n",
       "    </tr>\n",
       "    <tr>\n",
       "      <th>A1CF</th>\n",
       "      <td>0.00000</td>\n",
       "      <td>0.116292</td>\n",
       "      <td>0.160218</td>\n",
       "      <td>0.00000</td>\n",
       "      <td>0.486126</td>\n",
       "      <td>0.226048</td>\n",
       "      <td>0.05566</td>\n",
       "      <td>0.763637</td>\n",
       "      <td>0.00000</td>\n",
       "      <td>0.243631</td>\n",
       "      <td>0.101949</td>\n",
       "      <td>0.126096</td>\n",
       "    </tr>\n",
       "    <tr>\n",
       "      <th>A2M</th>\n",
       "      <td>0.00000</td>\n",
       "      <td>0.000000</td>\n",
       "      <td>0.000000</td>\n",
       "      <td>0.00000</td>\n",
       "      <td>0.000000</td>\n",
       "      <td>0.000000</td>\n",
       "      <td>0.00000</td>\n",
       "      <td>0.000000</td>\n",
       "      <td>0.00000</td>\n",
       "      <td>0.245102</td>\n",
       "      <td>0.000000</td>\n",
       "      <td>0.000000</td>\n",
       "    </tr>\n",
       "    <tr>\n",
       "      <th>A2M-AS1</th>\n",
       "      <td>0.00000</td>\n",
       "      <td>0.000000</td>\n",
       "      <td>0.000000</td>\n",
       "      <td>0.00000</td>\n",
       "      <td>0.000000</td>\n",
       "      <td>0.000000</td>\n",
       "      <td>0.00000</td>\n",
       "      <td>0.000000</td>\n",
       "      <td>0.00000</td>\n",
       "      <td>0.000000</td>\n",
       "      <td>0.000000</td>\n",
       "      <td>0.000000</td>\n",
       "    </tr>\n",
       "  </tbody>\n",
       "</table>\n",
       "</div>"
      ],
      "text/plain": [
       "          Mad-30mm-8hr-minus_S12  Mad-20mm-8hr-DMS_S8  Mad-10mm-8hr-DMS_S7  \\\n",
       "A1BG                     1.13562             2.631350             4.902720   \n",
       "A1BG-AS1                 4.70636             2.484750             3.268500   \n",
       "A1CF                     0.00000             0.116292             0.160218   \n",
       "A2M                      0.00000             0.000000             0.000000   \n",
       "A2M-AS1                  0.00000             0.000000             0.000000   \n",
       "\n",
       "          Mad-20mm-4hr-DMS_S2  Mad-30mm-4hr-minus_S6  Mad-10mm-4hr-DMS_S1  \\\n",
       "A1BG                  3.50921               4.907930             6.314380   \n",
       "A1BG-AS1              3.11107               3.867360             2.459000   \n",
       "A1CF                  0.00000               0.486126             0.226048   \n",
       "A2M                   0.00000               0.000000             0.000000   \n",
       "A2M-AS1               0.00000               0.000000             0.000000   \n",
       "\n",
       "          Mad-30mm-8hr-DMS_S9  Mad-20mm-8hr-minus_S11  Mad-20mm-4hr-minus_S5  \\\n",
       "A1BG                  1.72576                3.425100                3.33652   \n",
       "A1BG-AS1              2.38227                2.615480                1.30564   \n",
       "A1CF                  0.05566                0.763637                0.00000   \n",
       "A2M                   0.00000                0.000000                0.00000   \n",
       "A2M-AS1               0.00000                0.000000                0.00000   \n",
       "\n",
       "          Mad-10mm-4hr-minus_S4  Mad-10mm-8hr-minus_S10  Mad-30mm-4hr-DMS_S3  \n",
       "A1BG                   5.785470                2.407860             3.533560  \n",
       "A1BG-AS1               4.260010                5.825430             0.000000  \n",
       "A1CF                   0.243631                0.101949             0.126096  \n",
       "A2M                    0.245102                0.000000             0.000000  \n",
       "A2M-AS1                0.000000                0.000000             0.000000  "
      ]
     },
     "execution_count": 10,
     "metadata": {},
     "output_type": "execute_result"
    }
   ],
   "source": [
    "feature_readCounts.index = sorted(features)\n",
    "feature_readCounts.head()"
   ]
  },
  {
   "cell_type": "code",
   "execution_count": 11,
   "metadata": {},
   "outputs": [],
   "source": [
    "# Create a data frame with unique top features as column\n",
    "feature_readCounts_50percent = pd.DataFrame()"
   ]
  },
  {
   "cell_type": "code",
   "execution_count": 12,
   "metadata": {},
   "outputs": [
    {
     "name": "stdout",
     "output_type": "stream",
     "text": [
      "Mad-30mm-4hr-DMS_S3_transcripts_quant_genenames_Just50percentReads\n",
      "Mad-20mm-8hr-DMS_S8_transcripts_quant_genenames_Just50percentReads\n",
      "Mad-30mm-8hr-minus_S12_transcripts_quant_genenames_Just50percentReads\n",
      "Mad-10mm-8hr-DMS_S7_transcripts_quant_genenames_Just50percentReads\n",
      "Mad-20mm-8hr-minus_S11_transcripts_quant_genenames_Just50percentReads\n",
      "Mad-10mm-8hr-minus_S10_transcripts_quant_genenames_Just50percentReads\n",
      "Mad-20mm-4hr-DMS_S2_transcripts_quant_genenames_Just50percentReads\n",
      "Mad-20mm-4hr-minus_S5_transcripts_quant_genenames_Just50percentReads\n",
      "Mad-10mm-4hr-minus_S4_transcripts_quant_genenames_Just50percentReads\n",
      "Mad-30mm-8hr-DMS_S9_transcripts_quant_genenames_Just50percentReads\n",
      "Mad-30mm-4hr-minus_S6_transcripts_quant_genenames_Just50percentReads\n",
      "Mad-10mm-4hr-DMS_S1_transcripts_quant_genenames_Just50percentReads\n"
     ]
    }
   ],
   "source": [
    "# This is for 50percent fastq file\n",
    "# Read in the Count files \n",
    "for filename in os.listdir(\"../tmp/Lela_MadrasinReadsTest_June2018/\"):\n",
    "    current_columns = list(feature_readCounts_50percent.columns.values)\n",
    "    if \"transcripts_quant_genenames_Just50percentReads\" in filename:\n",
    "        print filename\n",
    "        current_columns.append(filename.split(\"_transcripts\")[0])\n",
    "        data_to_read = pd.read_csv(\"../tmp/Lela_MadrasinReadsTest_June2018/\"+filename+\"/\"+fileToRead,header=0,sep=\"\\t\")\n",
    "        #data_GetFeatures = data_to_read[data_to_read[\"Name\"].isin(unique_top_features)]\n",
    "        features=list(data_to_read[\"Name\"].values)\n",
    "        data_sortedBy_FeatureName = data_to_read.sort_values(by=\"Name\")\n",
    "        data_sortedBy_FeatureName = data_sortedBy_FeatureName.reset_index(drop=True)\n",
    "        feature_readCounts_50percent = pd.concat([feature_readCounts_50percent,data_sortedBy_FeatureName[\"TPM\"]],axis=1,ignore_index=True)\n",
    "        feature_readCounts_50percent.columns = current_columns"
   ]
  },
  {
   "cell_type": "code",
   "execution_count": 13,
   "metadata": {},
   "outputs": [
    {
     "data": {
      "text/html": [
       "<div>\n",
       "<style scoped>\n",
       "    .dataframe tbody tr th:only-of-type {\n",
       "        vertical-align: middle;\n",
       "    }\n",
       "\n",
       "    .dataframe tbody tr th {\n",
       "        vertical-align: top;\n",
       "    }\n",
       "\n",
       "    .dataframe thead th {\n",
       "        text-align: right;\n",
       "    }\n",
       "</style>\n",
       "<table border=\"1\" class=\"dataframe\">\n",
       "  <thead>\n",
       "    <tr style=\"text-align: right;\">\n",
       "      <th></th>\n",
       "      <th>Mad-30mm-4hr-DMS_S3</th>\n",
       "      <th>Mad-20mm-8hr-DMS_S8</th>\n",
       "      <th>Mad-30mm-8hr-minus_S12</th>\n",
       "      <th>Mad-10mm-8hr-DMS_S7</th>\n",
       "      <th>Mad-20mm-8hr-minus_S11</th>\n",
       "      <th>Mad-10mm-8hr-minus_S10</th>\n",
       "      <th>Mad-20mm-4hr-DMS_S2</th>\n",
       "      <th>Mad-20mm-4hr-minus_S5</th>\n",
       "      <th>Mad-10mm-4hr-minus_S4</th>\n",
       "      <th>Mad-30mm-8hr-DMS_S9</th>\n",
       "      <th>Mad-30mm-4hr-minus_S6</th>\n",
       "      <th>Mad-10mm-4hr-DMS_S1</th>\n",
       "    </tr>\n",
       "  </thead>\n",
       "  <tbody>\n",
       "    <tr>\n",
       "      <th>0</th>\n",
       "      <td>1.41996</td>\n",
       "      <td>3.97886</td>\n",
       "      <td>1.14596</td>\n",
       "      <td>5.275310</td>\n",
       "      <td>4.604710</td>\n",
       "      <td>2.421390</td>\n",
       "      <td>3.84584</td>\n",
       "      <td>2.23757</td>\n",
       "      <td>7.252630</td>\n",
       "      <td>2.556980</td>\n",
       "      <td>2.826730</td>\n",
       "      <td>4.553090</td>\n",
       "    </tr>\n",
       "    <tr>\n",
       "      <th>1</th>\n",
       "      <td>3.47025</td>\n",
       "      <td>3.02093</td>\n",
       "      <td>7.31116</td>\n",
       "      <td>3.268780</td>\n",
       "      <td>2.368330</td>\n",
       "      <td>3.567590</td>\n",
       "      <td>2.73376</td>\n",
       "      <td>2.28740</td>\n",
       "      <td>5.695020</td>\n",
       "      <td>3.021150</td>\n",
       "      <td>2.736840</td>\n",
       "      <td>5.083100</td>\n",
       "    </tr>\n",
       "    <tr>\n",
       "      <th>2</th>\n",
       "      <td>0.00000</td>\n",
       "      <td>0.00000</td>\n",
       "      <td>0.00000</td>\n",
       "      <td>0.316566</td>\n",
       "      <td>0.385702</td>\n",
       "      <td>0.205937</td>\n",
       "      <td>0.00000</td>\n",
       "      <td>0.00000</td>\n",
       "      <td>0.491025</td>\n",
       "      <td>0.111112</td>\n",
       "      <td>0.482254</td>\n",
       "      <td>0.457501</td>\n",
       "    </tr>\n",
       "    <tr>\n",
       "      <th>3</th>\n",
       "      <td>0.00000</td>\n",
       "      <td>0.00000</td>\n",
       "      <td>0.00000</td>\n",
       "      <td>0.000000</td>\n",
       "      <td>0.000000</td>\n",
       "      <td>0.000000</td>\n",
       "      <td>0.00000</td>\n",
       "      <td>0.00000</td>\n",
       "      <td>0.493500</td>\n",
       "      <td>0.000000</td>\n",
       "      <td>0.000000</td>\n",
       "      <td>0.000000</td>\n",
       "    </tr>\n",
       "    <tr>\n",
       "      <th>4</th>\n",
       "      <td>0.00000</td>\n",
       "      <td>0.00000</td>\n",
       "      <td>0.00000</td>\n",
       "      <td>0.000000</td>\n",
       "      <td>0.000000</td>\n",
       "      <td>0.000000</td>\n",
       "      <td>0.00000</td>\n",
       "      <td>0.00000</td>\n",
       "      <td>0.000000</td>\n",
       "      <td>0.000000</td>\n",
       "      <td>0.000000</td>\n",
       "      <td>0.000000</td>\n",
       "    </tr>\n",
       "  </tbody>\n",
       "</table>\n",
       "</div>"
      ],
      "text/plain": [
       "   Mad-30mm-4hr-DMS_S3  Mad-20mm-8hr-DMS_S8  Mad-30mm-8hr-minus_S12  \\\n",
       "0              1.41996              3.97886                 1.14596   \n",
       "1              3.47025              3.02093                 7.31116   \n",
       "2              0.00000              0.00000                 0.00000   \n",
       "3              0.00000              0.00000                 0.00000   \n",
       "4              0.00000              0.00000                 0.00000   \n",
       "\n",
       "   Mad-10mm-8hr-DMS_S7  Mad-20mm-8hr-minus_S11  Mad-10mm-8hr-minus_S10  \\\n",
       "0             5.275310                4.604710                2.421390   \n",
       "1             3.268780                2.368330                3.567590   \n",
       "2             0.316566                0.385702                0.205937   \n",
       "3             0.000000                0.000000                0.000000   \n",
       "4             0.000000                0.000000                0.000000   \n",
       "\n",
       "   Mad-20mm-4hr-DMS_S2  Mad-20mm-4hr-minus_S5  Mad-10mm-4hr-minus_S4  \\\n",
       "0              3.84584                2.23757               7.252630   \n",
       "1              2.73376                2.28740               5.695020   \n",
       "2              0.00000                0.00000               0.491025   \n",
       "3              0.00000                0.00000               0.493500   \n",
       "4              0.00000                0.00000               0.000000   \n",
       "\n",
       "   Mad-30mm-8hr-DMS_S9  Mad-30mm-4hr-minus_S6  Mad-10mm-4hr-DMS_S1  \n",
       "0             2.556980               2.826730             4.553090  \n",
       "1             3.021150               2.736840             5.083100  \n",
       "2             0.111112               0.482254             0.457501  \n",
       "3             0.000000               0.000000             0.000000  \n",
       "4             0.000000               0.000000             0.000000  "
      ]
     },
     "execution_count": 13,
     "metadata": {},
     "output_type": "execute_result"
    }
   ],
   "source": [
    "feature_readCounts_50percent.head()"
   ]
  },
  {
   "cell_type": "code",
   "execution_count": 14,
   "metadata": {},
   "outputs": [
    {
     "data": {
      "text/html": [
       "<div>\n",
       "<style scoped>\n",
       "    .dataframe tbody tr th:only-of-type {\n",
       "        vertical-align: middle;\n",
       "    }\n",
       "\n",
       "    .dataframe tbody tr th {\n",
       "        vertical-align: top;\n",
       "    }\n",
       "\n",
       "    .dataframe thead th {\n",
       "        text-align: right;\n",
       "    }\n",
       "</style>\n",
       "<table border=\"1\" class=\"dataframe\">\n",
       "  <thead>\n",
       "    <tr style=\"text-align: right;\">\n",
       "      <th></th>\n",
       "      <th>Mad-30mm-4hr-DMS_S3</th>\n",
       "      <th>Mad-20mm-8hr-DMS_S8</th>\n",
       "      <th>Mad-30mm-8hr-minus_S12</th>\n",
       "      <th>Mad-10mm-8hr-DMS_S7</th>\n",
       "      <th>Mad-20mm-8hr-minus_S11</th>\n",
       "      <th>Mad-10mm-8hr-minus_S10</th>\n",
       "      <th>Mad-20mm-4hr-DMS_S2</th>\n",
       "      <th>Mad-20mm-4hr-minus_S5</th>\n",
       "      <th>Mad-10mm-4hr-minus_S4</th>\n",
       "      <th>Mad-30mm-8hr-DMS_S9</th>\n",
       "      <th>Mad-30mm-4hr-minus_S6</th>\n",
       "      <th>Mad-10mm-4hr-DMS_S1</th>\n",
       "    </tr>\n",
       "  </thead>\n",
       "  <tbody>\n",
       "    <tr>\n",
       "      <th>A1BG</th>\n",
       "      <td>1.41996</td>\n",
       "      <td>3.97886</td>\n",
       "      <td>1.14596</td>\n",
       "      <td>5.275310</td>\n",
       "      <td>4.604710</td>\n",
       "      <td>2.421390</td>\n",
       "      <td>3.84584</td>\n",
       "      <td>2.23757</td>\n",
       "      <td>7.252630</td>\n",
       "      <td>2.556980</td>\n",
       "      <td>2.826730</td>\n",
       "      <td>4.553090</td>\n",
       "    </tr>\n",
       "    <tr>\n",
       "      <th>A1BG-AS1</th>\n",
       "      <td>3.47025</td>\n",
       "      <td>3.02093</td>\n",
       "      <td>7.31116</td>\n",
       "      <td>3.268780</td>\n",
       "      <td>2.368330</td>\n",
       "      <td>3.567590</td>\n",
       "      <td>2.73376</td>\n",
       "      <td>2.28740</td>\n",
       "      <td>5.695020</td>\n",
       "      <td>3.021150</td>\n",
       "      <td>2.736840</td>\n",
       "      <td>5.083100</td>\n",
       "    </tr>\n",
       "    <tr>\n",
       "      <th>A1CF</th>\n",
       "      <td>0.00000</td>\n",
       "      <td>0.00000</td>\n",
       "      <td>0.00000</td>\n",
       "      <td>0.316566</td>\n",
       "      <td>0.385702</td>\n",
       "      <td>0.205937</td>\n",
       "      <td>0.00000</td>\n",
       "      <td>0.00000</td>\n",
       "      <td>0.491025</td>\n",
       "      <td>0.111112</td>\n",
       "      <td>0.482254</td>\n",
       "      <td>0.457501</td>\n",
       "    </tr>\n",
       "    <tr>\n",
       "      <th>A2M</th>\n",
       "      <td>0.00000</td>\n",
       "      <td>0.00000</td>\n",
       "      <td>0.00000</td>\n",
       "      <td>0.000000</td>\n",
       "      <td>0.000000</td>\n",
       "      <td>0.000000</td>\n",
       "      <td>0.00000</td>\n",
       "      <td>0.00000</td>\n",
       "      <td>0.493500</td>\n",
       "      <td>0.000000</td>\n",
       "      <td>0.000000</td>\n",
       "      <td>0.000000</td>\n",
       "    </tr>\n",
       "    <tr>\n",
       "      <th>A2M-AS1</th>\n",
       "      <td>0.00000</td>\n",
       "      <td>0.00000</td>\n",
       "      <td>0.00000</td>\n",
       "      <td>0.000000</td>\n",
       "      <td>0.000000</td>\n",
       "      <td>0.000000</td>\n",
       "      <td>0.00000</td>\n",
       "      <td>0.00000</td>\n",
       "      <td>0.000000</td>\n",
       "      <td>0.000000</td>\n",
       "      <td>0.000000</td>\n",
       "      <td>0.000000</td>\n",
       "    </tr>\n",
       "  </tbody>\n",
       "</table>\n",
       "</div>"
      ],
      "text/plain": [
       "          Mad-30mm-4hr-DMS_S3  Mad-20mm-8hr-DMS_S8  Mad-30mm-8hr-minus_S12  \\\n",
       "A1BG                  1.41996              3.97886                 1.14596   \n",
       "A1BG-AS1              3.47025              3.02093                 7.31116   \n",
       "A1CF                  0.00000              0.00000                 0.00000   \n",
       "A2M                   0.00000              0.00000                 0.00000   \n",
       "A2M-AS1               0.00000              0.00000                 0.00000   \n",
       "\n",
       "          Mad-10mm-8hr-DMS_S7  Mad-20mm-8hr-minus_S11  Mad-10mm-8hr-minus_S10  \\\n",
       "A1BG                 5.275310                4.604710                2.421390   \n",
       "A1BG-AS1             3.268780                2.368330                3.567590   \n",
       "A1CF                 0.316566                0.385702                0.205937   \n",
       "A2M                  0.000000                0.000000                0.000000   \n",
       "A2M-AS1              0.000000                0.000000                0.000000   \n",
       "\n",
       "          Mad-20mm-4hr-DMS_S2  Mad-20mm-4hr-minus_S5  Mad-10mm-4hr-minus_S4  \\\n",
       "A1BG                  3.84584                2.23757               7.252630   \n",
       "A1BG-AS1              2.73376                2.28740               5.695020   \n",
       "A1CF                  0.00000                0.00000               0.491025   \n",
       "A2M                   0.00000                0.00000               0.493500   \n",
       "A2M-AS1               0.00000                0.00000               0.000000   \n",
       "\n",
       "          Mad-30mm-8hr-DMS_S9  Mad-30mm-4hr-minus_S6  Mad-10mm-4hr-DMS_S1  \n",
       "A1BG                 2.556980               2.826730             4.553090  \n",
       "A1BG-AS1             3.021150               2.736840             5.083100  \n",
       "A1CF                 0.111112               0.482254             0.457501  \n",
       "A2M                  0.000000               0.000000             0.000000  \n",
       "A2M-AS1              0.000000               0.000000             0.000000  "
      ]
     },
     "execution_count": 14,
     "metadata": {},
     "output_type": "execute_result"
    }
   ],
   "source": [
    "feature_readCounts_50percent.index = sorted(features)\n",
    "feature_readCounts_50percent.head()"
   ]
  },
  {
   "cell_type": "code",
   "execution_count": 18,
   "metadata": {},
   "outputs": [
    {
     "name": "stdout",
     "output_type": "stream",
     "text": [
      "(38461, 12)\n",
      "(38461, 12)\n"
     ]
    }
   ],
   "source": [
    "print feature_readCounts.shape\n",
    "print feature_readCounts_50percent.shape"
   ]
  },
  {
   "cell_type": "code",
   "execution_count": 66,
   "metadata": {},
   "outputs": [
    {
     "data": {
      "text/html": [
       "<div>\n",
       "<style scoped>\n",
       "    .dataframe tbody tr th:only-of-type {\n",
       "        vertical-align: middle;\n",
       "    }\n",
       "\n",
       "    .dataframe tbody tr th {\n",
       "        vertical-align: top;\n",
       "    }\n",
       "\n",
       "    .dataframe thead th {\n",
       "        text-align: right;\n",
       "    }\n",
       "</style>\n",
       "<table border=\"1\" class=\"dataframe\">\n",
       "  <thead>\n",
       "    <tr style=\"text-align: right;\">\n",
       "      <th></th>\n",
       "      <th>Mad-10mm-4hr-DMS_S1</th>\n",
       "      <th>Mad-10mm-4hr-minus_S4</th>\n",
       "      <th>Mad-10mm-8hr-DMS_S7</th>\n",
       "      <th>Mad-10mm-8hr-minus_S10</th>\n",
       "      <th>Mad-20mm-4hr-DMS_S2</th>\n",
       "      <th>Mad-20mm-4hr-minus_S5</th>\n",
       "      <th>Mad-20mm-8hr-DMS_S8</th>\n",
       "      <th>Mad-20mm-8hr-minus_S11</th>\n",
       "      <th>Mad-30mm-4hr-DMS_S3</th>\n",
       "      <th>Mad-30mm-4hr-minus_S6</th>\n",
       "      <th>Mad-30mm-8hr-DMS_S9</th>\n",
       "      <th>Mad-30mm-8hr-minus_S12</th>\n",
       "    </tr>\n",
       "  </thead>\n",
       "  <tbody>\n",
       "    <tr>\n",
       "      <th>A1BG</th>\n",
       "      <td>0.240798</td>\n",
       "      <td>-0.216221</td>\n",
       "      <td>-0.063122</td>\n",
       "      <td>-0.003970</td>\n",
       "      <td>-0.074654</td>\n",
       "      <td>0.253417</td>\n",
       "      <td>-0.371077</td>\n",
       "      <td>-0.266573</td>\n",
       "      <td>0.466212</td>\n",
       "      <td>0.352272</td>\n",
       "      <td>-0.304950</td>\n",
       "      <td>-0.004842</td>\n",
       "    </tr>\n",
       "    <tr>\n",
       "      <th>A1BG-AS1</th>\n",
       "      <td>-0.758630</td>\n",
       "      <td>-0.272815</td>\n",
       "      <td>-0.000066</td>\n",
       "      <td>0.330798</td>\n",
       "      <td>0.091779</td>\n",
       "      <td>-0.425808</td>\n",
       "      <td>-0.153865</td>\n",
       "      <td>0.068359</td>\n",
       "      <td>-3.470250</td>\n",
       "      <td>0.232266</td>\n",
       "      <td>-0.188891</td>\n",
       "      <td>-0.456473</td>\n",
       "    </tr>\n",
       "    <tr>\n",
       "      <th>A1CF</th>\n",
       "      <td>-0.188780</td>\n",
       "      <td>-0.198929</td>\n",
       "      <td>-0.134757</td>\n",
       "      <td>-0.094367</td>\n",
       "      <td>0.000000</td>\n",
       "      <td>0.000000</td>\n",
       "      <td>0.104177</td>\n",
       "      <td>0.214293</td>\n",
       "      <td>0.111976</td>\n",
       "      <td>0.002605</td>\n",
       "      <td>-0.052528</td>\n",
       "      <td>0.000000</td>\n",
       "    </tr>\n",
       "    <tr>\n",
       "      <th>A2M</th>\n",
       "      <td>0.000000</td>\n",
       "      <td>-0.199500</td>\n",
       "      <td>0.000000</td>\n",
       "      <td>0.000000</td>\n",
       "      <td>0.000000</td>\n",
       "      <td>0.000000</td>\n",
       "      <td>0.000000</td>\n",
       "      <td>0.000000</td>\n",
       "      <td>0.000000</td>\n",
       "      <td>0.000000</td>\n",
       "      <td>0.000000</td>\n",
       "      <td>0.000000</td>\n",
       "    </tr>\n",
       "    <tr>\n",
       "      <th>A2M-AS1</th>\n",
       "      <td>0.000000</td>\n",
       "      <td>0.000000</td>\n",
       "      <td>0.000000</td>\n",
       "      <td>0.000000</td>\n",
       "      <td>0.000000</td>\n",
       "      <td>0.000000</td>\n",
       "      <td>0.000000</td>\n",
       "      <td>0.000000</td>\n",
       "      <td>0.000000</td>\n",
       "      <td>0.000000</td>\n",
       "      <td>0.000000</td>\n",
       "      <td>0.000000</td>\n",
       "    </tr>\n",
       "  </tbody>\n",
       "</table>\n",
       "</div>"
      ],
      "text/plain": [
       "          Mad-10mm-4hr-DMS_S1  Mad-10mm-4hr-minus_S4  Mad-10mm-8hr-DMS_S7  \\\n",
       "A1BG                 0.240798              -0.216221            -0.063122   \n",
       "A1BG-AS1            -0.758630              -0.272815            -0.000066   \n",
       "A1CF                -0.188780              -0.198929            -0.134757   \n",
       "A2M                  0.000000              -0.199500             0.000000   \n",
       "A2M-AS1              0.000000               0.000000             0.000000   \n",
       "\n",
       "          Mad-10mm-8hr-minus_S10  Mad-20mm-4hr-DMS_S2  Mad-20mm-4hr-minus_S5  \\\n",
       "A1BG                   -0.003970            -0.074654               0.253417   \n",
       "A1BG-AS1                0.330798             0.091779              -0.425808   \n",
       "A1CF                   -0.094367             0.000000               0.000000   \n",
       "A2M                     0.000000             0.000000               0.000000   \n",
       "A2M-AS1                 0.000000             0.000000               0.000000   \n",
       "\n",
       "          Mad-20mm-8hr-DMS_S8  Mad-20mm-8hr-minus_S11  Mad-30mm-4hr-DMS_S3  \\\n",
       "A1BG                -0.371077               -0.266573             0.466212   \n",
       "A1BG-AS1            -0.153865                0.068359            -3.470250   \n",
       "A1CF                 0.104177                0.214293             0.111976   \n",
       "A2M                  0.000000                0.000000             0.000000   \n",
       "A2M-AS1              0.000000                0.000000             0.000000   \n",
       "\n",
       "          Mad-30mm-4hr-minus_S6  Mad-30mm-8hr-DMS_S9  Mad-30mm-8hr-minus_S12  \n",
       "A1BG                   0.352272            -0.304950               -0.004842  \n",
       "A1BG-AS1               0.232266            -0.188891               -0.456473  \n",
       "A1CF                   0.002605            -0.052528                0.000000  \n",
       "A2M                    0.000000             0.000000                0.000000  \n",
       "A2M-AS1                0.000000             0.000000                0.000000  "
      ]
     },
     "execution_count": 66,
     "metadata": {},
     "output_type": "execute_result"
    }
   ],
   "source": [
    "# Subtract regular from 50percent\n",
    "diff_DF = (feature_readCounts - feature_readCounts_50percent)/(feature_readCounts+1)\n",
    "diff_DF.head()"
   ]
  },
  {
   "cell_type": "code",
   "execution_count": 67,
   "metadata": {},
   "outputs": [],
   "source": [
    "diff_DF_flattened = list(diff_DF.values.flatten())"
   ]
  },
  {
   "cell_type": "code",
   "execution_count": 68,
   "metadata": {},
   "outputs": [
    {
     "data": {
      "text/plain": [
       "0.99912310097754098"
      ]
     },
     "execution_count": 68,
     "metadata": {},
     "output_type": "execute_result"
    }
   ],
   "source": [
    "max(diff_DF_flattened)"
   ]
  },
  {
   "cell_type": "code",
   "execution_count": 83,
   "metadata": {},
   "outputs": [
    {
     "data": {
      "text/plain": [
       "Mad-10mm-4hr-DMS_S1       0.994359\n",
       "Mad-10mm-4hr-minus_S4     0.995759\n",
       "Mad-10mm-8hr-DMS_S7       0.990803\n",
       "Mad-10mm-8hr-minus_S10    0.990599\n",
       "Mad-20mm-4hr-DMS_S2       0.995407\n",
       "Mad-20mm-4hr-minus_S5     0.995597\n",
       "Mad-20mm-8hr-DMS_S8       0.999123\n",
       "Mad-20mm-8hr-minus_S11    0.996027\n",
       "Mad-30mm-4hr-DMS_S3       0.996122\n",
       "Mad-30mm-4hr-minus_S6     0.997104\n",
       "Mad-30mm-8hr-DMS_S9       0.991287\n",
       "Mad-30mm-8hr-minus_S12    0.992143\n",
       "dtype: float64"
      ]
     },
     "execution_count": 83,
     "metadata": {},
     "output_type": "execute_result"
    }
   ],
   "source": [
    "diff_DF.max()"
   ]
  },
  {
   "cell_type": "code",
   "execution_count": 78,
   "metadata": {},
   "outputs": [
    {
     "data": {
      "text/plain": [
       "'MIR4426'"
      ]
     },
     "execution_count": 78,
     "metadata": {},
     "output_type": "execute_result"
    }
   ],
   "source": [
    "diff_DF['Mad-30mm-8hr-minus_S12'].idxmin(axis=1)"
   ]
  },
  {
   "cell_type": "code",
   "execution_count": 80,
   "metadata": {},
   "outputs": [
    {
     "data": {
      "text/plain": [
       "-117.068"
      ]
     },
     "execution_count": 80,
     "metadata": {},
     "output_type": "execute_result"
    }
   ],
   "source": [
    "diff_DF.loc['MIR4426','Mad-30mm-8hr-minus_S12']"
   ]
  },
  {
   "cell_type": "code",
   "execution_count": 81,
   "metadata": {},
   "outputs": [
    {
     "name": "stdout",
     "output_type": "stream",
     "text": [
      "0.0\n",
      "117.068\n"
     ]
    }
   ],
   "source": [
    "print feature_readCounts.loc['MIR4426','Mad-30mm-8hr-minus_S12']\n",
    "print feature_readCounts_50percent.loc['MIR4426','Mad-30mm-8hr-minus_S12']"
   ]
  },
  {
   "cell_type": "code",
   "execution_count": 85,
   "metadata": {},
   "outputs": [
    {
     "name": "stdout",
     "output_type": "stream",
     "text": [
      "143.117\n",
      "154.59\n"
     ]
    }
   ],
   "source": [
    "print feature_readCounts.loc['RPS27A','Mad-30mm-8hr-minus_S12']\n",
    "print feature_readCounts_50percent.loc['RPS27A','Mad-30mm-8hr-minus_S12']"
   ]
  },
  {
   "cell_type": "code",
   "execution_count": 77,
   "metadata": {},
   "outputs": [
    {
     "name": "stdout",
     "output_type": "stream",
     "text": [
      "0.038398\n",
      "1006.24\n"
     ]
    }
   ],
   "source": [
    "print feature_readCounts.loc['RNU6-1','Mad-20mm-8hr-DMS_S8']\n",
    "print feature_readCounts_50percent.loc['RNU6-1','Mad-20mm-8hr-DMS_S8']"
   ]
  },
  {
   "cell_type": "code",
   "execution_count": 40,
   "metadata": {},
   "outputs": [
    {
     "data": {
      "text/plain": [
       "-2341.5100000000002"
      ]
     },
     "execution_count": 40,
     "metadata": {},
     "output_type": "execute_result"
    }
   ],
   "source": [
    "min(diff_DF_flattened)"
   ]
  },
  {
   "cell_type": "code",
   "execution_count": 84,
   "metadata": {},
   "outputs": [
    {
     "data": {
      "text/plain": [
       "<matplotlib.axes._subplots.AxesSubplot at 0x7f70cdb974d0>"
      ]
     },
     "execution_count": 84,
     "metadata": {},
     "output_type": "execute_result"
    },
    {
     "data": {
      "image/png": "[encoded data removed]",
      "text/plain": [
       "<matplotlib.figure.Figure at 0x7f70c4215090>"
      ]
     },
     "metadata": {},
     "output_type": "display_data"
    }
   ],
   "source": [
    "sns.distplot(diff_DF_flattened,kde=False)"
   ]
  },
  {
   "cell_type": "code",
   "execution_count": 30,
   "metadata": {},
   "outputs": [
    {
     "data": {
      "text/plain": [
       "4343.5"
      ]
     },
     "execution_count": 30,
     "metadata": {},
     "output_type": "execute_result"
    }
   ],
   "source": [
    "max(x)"
   ]
  },
  {
   "cell_type": "code",
   "execution_count": 32,
   "metadata": {},
   "outputs": [
    {
     "data": {
      "text/plain": [
       "-2341.5100000000002"
      ]
     },
     "execution_count": 32,
     "metadata": {},
     "output_type": "execute_result"
    }
   ],
   "source": [
    "min(x)"
   ]
  },
  {
   "cell_type": "code",
   "execution_count": 58,
   "metadata": {},
   "outputs": [
    {
     "data": {
      "text/plain": [
       "-1454710000.0"
      ]
     },
     "execution_count": 58,
     "metadata": {},
     "output_type": "execute_result"
    }
   ],
   "source": [
    "-1.454710e+09"
   ]
  },
  {
   "cell_type": "code",
   "execution_count": 90,
   "metadata": {},
   "outputs": [
    {
     "ename": "KeyError",
     "evalue": "u'the label [NR_137294] is not in the [index]'",
     "output_type": "error",
     "traceback": [
      "\u001b[0;31m\u001b[0m",
      "\u001b[0;31mKeyError\u001b[0mTraceback (most recent call last)",
      "\u001b[0;32m<ipython-input-90-581a15306e68>\u001b[0m in \u001b[0;36m<module>\u001b[0;34m()\u001b[0m\n\u001b[1;32m      1\u001b[0m \u001b[0;31m# Look for ribosomal RNAs\u001b[0m\u001b[0;34m\u001b[0m\u001b[0;34m\u001b[0m\u001b[0m\n\u001b[0;32m----> 2\u001b[0;31m \u001b[0mfeature_readCounts\u001b[0m\u001b[0;34m.\u001b[0m\u001b[0mloc\u001b[0m\u001b[0;34m[\u001b[0m\u001b[0;34m'NR_137294'\u001b[0m\u001b[0;34m,\u001b[0m\u001b[0;34m:\u001b[0m\u001b[0;34m]\u001b[0m\u001b[0;34m\u001b[0m\u001b[0m\n\u001b[0m",
      "\u001b[0;32m/usr/local/lib/python2.7/dist-packages/pandas/core/indexing.pyc\u001b[0m in \u001b[0;36m__getitem__\u001b[0;34m(self, key)\u001b[0m\n\u001b[1;32m   1470\u001b[0m             \u001b[0;32mexcept\u001b[0m \u001b[0;34m(\u001b[0m\u001b[0mKeyError\u001b[0m\u001b[0;34m,\u001b[0m \u001b[0mIndexError\u001b[0m\u001b[0;34m)\u001b[0m\u001b[0;34m:\u001b[0m\u001b[0;34m\u001b[0m\u001b[0m\n\u001b[1;32m   1471\u001b[0m                 \u001b[0;32mpass\u001b[0m\u001b[0;34m\u001b[0m\u001b[0m\n\u001b[0;32m-> 1472\u001b[0;31m             \u001b[0;32mreturn\u001b[0m \u001b[0mself\u001b[0m\u001b[0;34m.\u001b[0m\u001b[0m_getitem_tuple\u001b[0m\u001b[0;34m(\u001b[0m\u001b[0mkey\u001b[0m\u001b[0;34m)\u001b[0m\u001b[0;34m\u001b[0m\u001b[0m\n\u001b[0m\u001b[1;32m   1473\u001b[0m         \u001b[0;32melse\u001b[0m\u001b[0;34m:\u001b[0m\u001b[0;34m\u001b[0m\u001b[0m\n\u001b[1;32m   1474\u001b[0m             \u001b[0;31m# we by definition only have the 0th axis\u001b[0m\u001b[0;34m\u001b[0m\u001b[0;34m\u001b[0m\u001b[0m\n",
      "\u001b[0;32m/usr/local/lib/python2.7/dist-packages/pandas/core/indexing.pyc\u001b[0m in \u001b[0;36m_getitem_tuple\u001b[0;34m(self, tup)\u001b[0m\n\u001b[1;32m    868\u001b[0m     \u001b[0;32mdef\u001b[0m \u001b[0m_getitem_tuple\u001b[0m\u001b[0;34m(\u001b[0m\u001b[0mself\u001b[0m\u001b[0;34m,\u001b[0m \u001b[0mtup\u001b[0m\u001b[0;34m)\u001b[0m\u001b[0;34m:\u001b[0m\u001b[0;34m\u001b[0m\u001b[0m\n\u001b[1;32m    869\u001b[0m         \u001b[0;32mtry\u001b[0m\u001b[0;34m:\u001b[0m\u001b[0;34m\u001b[0m\u001b[0m\n\u001b[0;32m--> 870\u001b[0;31m             \u001b[0;32mreturn\u001b[0m \u001b[0mself\u001b[0m\u001b[0;34m.\u001b[0m\u001b[0m_getitem_lowerdim\u001b[0m\u001b[0;34m(\u001b[0m\u001b[0mtup\u001b[0m\u001b[0;34m)\u001b[0m\u001b[0;34m\u001b[0m\u001b[0m\n\u001b[0m\u001b[1;32m    871\u001b[0m         \u001b[0;32mexcept\u001b[0m \u001b[0mIndexingError\u001b[0m\u001b[0;34m:\u001b[0m\u001b[0;34m\u001b[0m\u001b[0m\n\u001b[1;32m    872\u001b[0m             \u001b[0;32mpass\u001b[0m\u001b[0;34m\u001b[0m\u001b[0m\n",
      "\u001b[0;32m/usr/local/lib/python2.7/dist-packages/pandas/core/indexing.pyc\u001b[0m in \u001b[0;36m_getitem_lowerdim\u001b[0;34m(self, tup)\u001b[0m\n\u001b[1;32m    996\u001b[0m         \u001b[0;32mfor\u001b[0m \u001b[0mi\u001b[0m\u001b[0;34m,\u001b[0m \u001b[0mkey\u001b[0m \u001b[0;32min\u001b[0m \u001b[0menumerate\u001b[0m\u001b[0;34m(\u001b[0m\u001b[0mtup\u001b[0m\u001b[0;34m)\u001b[0m\u001b[0;34m:\u001b[0m\u001b[0;34m\u001b[0m\u001b[0m\n\u001b[1;32m    997\u001b[0m             \u001b[0;32mif\u001b[0m \u001b[0mis_label_like\u001b[0m\u001b[0;34m(\u001b[0m\u001b[0mkey\u001b[0m\u001b[0;34m)\u001b[0m \u001b[0;32mor\u001b[0m \u001b[0misinstance\u001b[0m\u001b[0;34m(\u001b[0m\u001b[0mkey\u001b[0m\u001b[0;34m,\u001b[0m \u001b[0mtuple\u001b[0m\u001b[0;34m)\u001b[0m\u001b[0;34m:\u001b[0m\u001b[0;34m\u001b[0m\u001b[0m\n\u001b[0;32m--> 998\u001b[0;31m                 \u001b[0msection\u001b[0m \u001b[0;34m=\u001b[0m \u001b[0mself\u001b[0m\u001b[0;34m.\u001b[0m\u001b[0m_getitem_axis\u001b[0m\u001b[0;34m(\u001b[0m\u001b[0mkey\u001b[0m\u001b[0;34m,\u001b[0m \u001b[0maxis\u001b[0m\u001b[0;34m=\u001b[0m\u001b[0mi\u001b[0m\u001b[0;34m)\u001b[0m\u001b[0;34m\u001b[0m\u001b[0m\n\u001b[0m\u001b[1;32m    999\u001b[0m \u001b[0;34m\u001b[0m\u001b[0m\n\u001b[1;32m   1000\u001b[0m                 \u001b[0;31m# we have yielded a scalar ?\u001b[0m\u001b[0;34m\u001b[0m\u001b[0;34m\u001b[0m\u001b[0m\n",
      "\u001b[0;32m/usr/local/lib/python2.7/dist-packages/pandas/core/indexing.pyc\u001b[0m in \u001b[0;36m_getitem_axis\u001b[0;34m(self, key, axis)\u001b[0m\n\u001b[1;32m   1909\u001b[0m \u001b[0;34m\u001b[0m\u001b[0m\n\u001b[1;32m   1910\u001b[0m         \u001b[0;31m# fall thru to straight lookup\u001b[0m\u001b[0;34m\u001b[0m\u001b[0;34m\u001b[0m\u001b[0m\n\u001b[0;32m-> 1911\u001b[0;31m         \u001b[0mself\u001b[0m\u001b[0;34m.\u001b[0m\u001b[0m_validate_key\u001b[0m\u001b[0;34m(\u001b[0m\u001b[0mkey\u001b[0m\u001b[0;34m,\u001b[0m \u001b[0maxis\u001b[0m\u001b[0;34m)\u001b[0m\u001b[0;34m\u001b[0m\u001b[0m\n\u001b[0m\u001b[1;32m   1912\u001b[0m         \u001b[0;32mreturn\u001b[0m \u001b[0mself\u001b[0m\u001b[0;34m.\u001b[0m\u001b[0m_get_label\u001b[0m\u001b[0;34m(\u001b[0m\u001b[0mkey\u001b[0m\u001b[0;34m,\u001b[0m \u001b[0maxis\u001b[0m\u001b[0;34m=\u001b[0m\u001b[0maxis\u001b[0m\u001b[0;34m)\u001b[0m\u001b[0;34m\u001b[0m\u001b[0m\n\u001b[1;32m   1913\u001b[0m \u001b[0;34m\u001b[0m\u001b[0m\n",
      "\u001b[0;32m/usr/local/lib/python2.7/dist-packages/pandas/core/indexing.pyc\u001b[0m in \u001b[0;36m_validate_key\u001b[0;34m(self, key, axis)\u001b[0m\n\u001b[1;32m   1796\u001b[0m                 \u001b[0;32mraise\u001b[0m\u001b[0;34m\u001b[0m\u001b[0m\n\u001b[1;32m   1797\u001b[0m             \u001b[0;32mexcept\u001b[0m\u001b[0;34m:\u001b[0m\u001b[0;34m\u001b[0m\u001b[0m\n\u001b[0;32m-> 1798\u001b[0;31m                 \u001b[0merror\u001b[0m\u001b[0;34m(\u001b[0m\u001b[0;34m)\u001b[0m\u001b[0;34m\u001b[0m\u001b[0m\n\u001b[0m\u001b[1;32m   1799\u001b[0m \u001b[0;34m\u001b[0m\u001b[0m\n\u001b[1;32m   1800\u001b[0m     \u001b[0;32mdef\u001b[0m \u001b[0m_is_scalar_access\u001b[0m\u001b[0;34m(\u001b[0m\u001b[0mself\u001b[0m\u001b[0;34m,\u001b[0m \u001b[0mkey\u001b[0m\u001b[0;34m)\u001b[0m\u001b[0;34m:\u001b[0m\u001b[0;34m\u001b[0m\u001b[0m\n",
      "\u001b[0;32m/usr/local/lib/python2.7/dist-packages/pandas/core/indexing.pyc\u001b[0m in \u001b[0;36merror\u001b[0;34m()\u001b[0m\n\u001b[1;32m   1783\u001b[0m                 raise KeyError(u\"the label [{key}] is not in the [{axis}]\"\n\u001b[1;32m   1784\u001b[0m                                .format(key=key,\n\u001b[0;32m-> 1785\u001b[0;31m                                        axis=self.obj._get_axis_name(axis)))\n\u001b[0m\u001b[1;32m   1786\u001b[0m \u001b[0;34m\u001b[0m\u001b[0m\n\u001b[1;32m   1787\u001b[0m             \u001b[0;32mtry\u001b[0m\u001b[0;34m:\u001b[0m\u001b[0;34m\u001b[0m\u001b[0m\n",
      "\u001b[0;31mKeyError\u001b[0m: u'the label [NR_137294] is not in the [index]'"
     ]
    }
   ],
   "source": [
    "# Look for ribosomal RNAs\n",
    "feature_readCounts.loc['NR_137294',:]"
   ]
  },
  {
   "cell_type": "code",
   "execution_count": null,
   "metadata": {},
   "outputs": [],
   "source": []
  }
 ],
 "metadata": {
  "kernelspec": {
   "display_name": "Python 2",
   "language": "python",
   "name": "python2"
  },
  "language_info": {
   "codemirror_mode": {
    "name": "ipython",
    "version": 2
   },
   "file_extension": ".py",
   "mimetype": "text/x-python",
   "name": "python",
   "nbconvert_exporter": "python",
   "pygments_lexer": "ipython2",
   "version": "2.7.6"
  }
 },
 "nbformat": 4,
 "nbformat_minor": 2
}
